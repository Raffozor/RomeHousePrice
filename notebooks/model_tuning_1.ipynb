{
 "cells": [
  {
   "cell_type": "code",
   "execution_count": 1,
   "id": "643a1249-3469-4e71-b6ff-ee3080200a5b",
   "metadata": {},
   "outputs": [],
   "source": [
    "import os\n",
    "os.chdir('C:/Users/raffa/PycharmProjects/PortfolioProject')\n",
    "import xgboost as xgb\n",
    "from xgboost import XGBRegressor\n",
    "from sklearn.linear_model import LinearRegression\n",
    "from sklearn.model_selection import cross_val_score\n",
    "from sklearn.model_selection import train_test_split\n",
    "from sklearn import metrics\n",
    "import sklearn\n",
    "import numpy as np\n",
    "import matplotlib.pyplot as plt\n",
    "import numpy as np\n",
    "from src.data_exploration.data_exploration import *"
   ]
  },
  {
   "cell_type": "code",
   "execution_count": 2,
   "id": "b1b91e83-aed1-41a2-832f-8e32ac47c74f",
   "metadata": {},
   "outputs": [],
   "source": [
    "import lightgbm as lgb\n",
    "from lightgbm import LGBMRegressor"
   ]
  },
  {
   "cell_type": "markdown",
   "id": "33c4fbd8-85b9-4440-8462-ded831c40683",
   "metadata": {},
   "source": [
    "import sys\n",
    "!{sys.executable} -m pip install lightgbm"
   ]
  },
  {
   "cell_type": "code",
   "execution_count": 61,
   "id": "fe05ae61-f805-4f95-bc65-5b441e30a1d1",
   "metadata": {},
   "outputs": [],
   "source": [
    "train_data = np.load( './data/train_test/train_data_lgb.npy')\n",
    "test_data = np.load( './data/train_test/test_data_lgb.npy')\n",
    "train_target = np.load( './data/train_test/train_target_lgb.npy')\n",
    "test_target = np.load( './data/train_test/test_target_lgb.npy')"
   ]
  },
  {
   "cell_type": "code",
   "execution_count": 12,
   "id": "fe680a0c-fe33-4499-b1c3-70c02bec0f09",
   "metadata": {},
   "outputs": [],
   "source": [
    "#train_data = np.delete(train_data,6,1)"
   ]
  },
  {
   "cell_type": "code",
   "execution_count": 62,
   "id": "7b1b4cb7-2239-4d27-bf51-47875924f45b",
   "metadata": {},
   "outputs": [
    {
     "data": {
      "text/plain": [
       "((13540, 90), (1504, 90))"
      ]
     },
     "execution_count": 62,
     "metadata": {},
     "output_type": "execute_result"
    }
   ],
   "source": [
    "train_data.shape, test_data.shape"
   ]
  },
  {
   "cell_type": "code",
   "execution_count": 339,
   "id": "57a909cc-4f41-410f-ba1a-a5e57f90d1df",
   "metadata": {},
   "outputs": [],
   "source": [
    "lin_model = LinearRegression()\n",
    "lin_scores = cross_val_score(lin_model, train_data, train_target, scoring='neg_mean_absolute_percentage_error')"
   ]
  },
  {
   "cell_type": "code",
   "execution_count": 340,
   "id": "af2bf133-9fcd-40c3-ba0d-5ad71dedea3d",
   "metadata": {},
   "outputs": [
    {
     "name": "stdout",
     "output_type": "stream",
     "text": [
      "Mean MAPE: 0.274 (0.008)\n"
     ]
    }
   ],
   "source": [
    "lin_scores = -lin_scores\n",
    "print('Mean MAPE: %.3f (%.3f)' % (lin_scores.mean(), lin_scores.std()) )"
   ]
  },
  {
   "cell_type": "code",
   "execution_count": null,
   "id": "0ca0bd72-e521-4de8-8a04-1f6966d9a8fc",
   "metadata": {},
   "outputs": [],
   "source": [
    "scores = cross_val_score(model, train_data, train_target, \n",
    "                         scoring='neg_mean_absolute_percentage_error', \n",
    "                         cv=8,  fit_params={'callbacks': callbacks}, verbose=1)"
   ]
  },
  {
   "cell_type": "code",
   "execution_count": 388,
   "id": "44b674d3-d58d-411a-b997-146b33b83735",
   "metadata": {},
   "outputs": [
    {
     "name": "stdout",
     "output_type": "stream",
     "text": [
      "Mean MAPE: 0.149 (0.007)\n"
     ]
    }
   ],
   "source": [
    "scores = -scores\n",
    "print('Mean MAPE: %.3f (%.3f)' % (scores.mean(), scores.std()) )"
   ]
  },
  {
   "cell_type": "code",
   "execution_count": 21,
   "id": "b35aff6b-ef22-403f-80db-d76dd74062a4",
   "metadata": {},
   "outputs": [
    {
     "data": {
      "text/plain": [
       "((12050, 90), (12050,), (1490, 90), (1490,))"
      ]
     },
     "execution_count": 21,
     "metadata": {},
     "output_type": "execute_result"
    }
   ],
   "source": [
    "X_train.shape, y_train.shape, X_val.shape, y_val.shape"
   ]
  },
  {
   "cell_type": "code",
   "execution_count": 67,
   "id": "50849b76-6917-4d65-a296-71ae248107f8",
   "metadata": {},
   "outputs": [],
   "source": [
    "X_train, X_val, y_train, y_val = train_test_split(train_data, train_target, test_size=0.11, random_state=42)\n",
    "eval_set = [(X_train, y_train), (X_val, y_val)]"
   ]
  },
  {
   "cell_type": "code",
   "execution_count": 105,
   "id": "245313ba-8d34-450d-8d76-20f7203a69af",
   "metadata": {},
   "outputs": [],
   "source": [
    "model = LGBMRegressor(boosting_type='gbdt',\n",
    "                      n_estimators=10000,\n",
    "                      learning_rate=0.025,\n",
    "                      random_state=42,\n",
    "                      colsample_bytree=0.94,\n",
    "                      reg_alpha=0.045,\n",
    "                      min_child_samples=4,\n",
    "                      objective = 'rmse'\n",
    "                     )"
   ]
  },
  {
   "cell_type": "code",
   "execution_count": 100,
   "id": "f173c80c-9aed-4583-937f-8e0edb587ca2",
   "metadata": {},
   "outputs": [],
   "source": [
    "model = LGBMRegressor(boosting_type='gbdt',\n",
    "                      colsample_bytree = 0.9199999999999999,\n",
    "                      reg_alpha = 93,\n",
    "                      reg_lambda = 37,\n",
    "                      learning_rate = 0.0837329237459536,\n",
    "                      min_child_samples = 7,\n",
    "                      min_split_gain = 6.0,\n",
    "                      n_estimators = 10000,\n",
    "                      num_leaves = 1740,\n",
    "                      random_state = 42,\n",
    "                      subsample = 0.6100000000000001,\n",
    "                      subsample_freq = 1\n",
    "                     )"
   ]
  },
  {
   "cell_type": "code",
   "execution_count": 106,
   "id": "e2982922-6abe-4054-92bc-ca5ffdae3fba",
   "metadata": {},
   "outputs": [],
   "source": [
    "eval_result = {}\n",
    "callbacks=[lgb.log_evaluation(period=-1,show_stdv=False), lgb.record_evaluation(eval_result), lgb.early_stopping(100, verbose=True)] "
   ]
  },
  {
   "cell_type": "code",
   "execution_count": 107,
   "id": "afab0e05-ee4a-490c-b219-e2e3ecd3f697",
   "metadata": {},
   "outputs": [
    {
     "name": "stdout",
     "output_type": "stream",
     "text": [
      "Training until validation scores don't improve for 100 rounds\n",
      "Early stopping, best iteration is:\n",
      "[621]\ttraining's l1: 46116.9\ttraining's rmse: 65136.4\tvalid_1's l1: 64831.6\tvalid_1's rmse: 145601\n"
     ]
    },
    {
     "data": {
      "text/html": [
       "<style>#sk-container-id-10 {color: black;background-color: white;}#sk-container-id-10 pre{padding: 0;}#sk-container-id-10 div.sk-toggleable {background-color: white;}#sk-container-id-10 label.sk-toggleable__label {cursor: pointer;display: block;width: 100%;margin-bottom: 0;padding: 0.3em;box-sizing: border-box;text-align: center;}#sk-container-id-10 label.sk-toggleable__label-arrow:before {content: \"▸\";float: left;margin-right: 0.25em;color: #696969;}#sk-container-id-10 label.sk-toggleable__label-arrow:hover:before {color: black;}#sk-container-id-10 div.sk-estimator:hover label.sk-toggleable__label-arrow:before {color: black;}#sk-container-id-10 div.sk-toggleable__content {max-height: 0;max-width: 0;overflow: hidden;text-align: left;background-color: #f0f8ff;}#sk-container-id-10 div.sk-toggleable__content pre {margin: 0.2em;color: black;border-radius: 0.25em;background-color: #f0f8ff;}#sk-container-id-10 input.sk-toggleable__control:checked~div.sk-toggleable__content {max-height: 200px;max-width: 100%;overflow: auto;}#sk-container-id-10 input.sk-toggleable__control:checked~label.sk-toggleable__label-arrow:before {content: \"▾\";}#sk-container-id-10 div.sk-estimator input.sk-toggleable__control:checked~label.sk-toggleable__label {background-color: #d4ebff;}#sk-container-id-10 div.sk-label input.sk-toggleable__control:checked~label.sk-toggleable__label {background-color: #d4ebff;}#sk-container-id-10 input.sk-hidden--visually {border: 0;clip: rect(1px 1px 1px 1px);clip: rect(1px, 1px, 1px, 1px);height: 1px;margin: -1px;overflow: hidden;padding: 0;position: absolute;width: 1px;}#sk-container-id-10 div.sk-estimator {font-family: monospace;background-color: #f0f8ff;border: 1px dotted black;border-radius: 0.25em;box-sizing: border-box;margin-bottom: 0.5em;}#sk-container-id-10 div.sk-estimator:hover {background-color: #d4ebff;}#sk-container-id-10 div.sk-parallel-item::after {content: \"\";width: 100%;border-bottom: 1px solid gray;flex-grow: 1;}#sk-container-id-10 div.sk-label:hover label.sk-toggleable__label {background-color: #d4ebff;}#sk-container-id-10 div.sk-serial::before {content: \"\";position: absolute;border-left: 1px solid gray;box-sizing: border-box;top: 0;bottom: 0;left: 50%;z-index: 0;}#sk-container-id-10 div.sk-serial {display: flex;flex-direction: column;align-items: center;background-color: white;padding-right: 0.2em;padding-left: 0.2em;position: relative;}#sk-container-id-10 div.sk-item {position: relative;z-index: 1;}#sk-container-id-10 div.sk-parallel {display: flex;align-items: stretch;justify-content: center;background-color: white;position: relative;}#sk-container-id-10 div.sk-item::before, #sk-container-id-10 div.sk-parallel-item::before {content: \"\";position: absolute;border-left: 1px solid gray;box-sizing: border-box;top: 0;bottom: 0;left: 50%;z-index: -1;}#sk-container-id-10 div.sk-parallel-item {display: flex;flex-direction: column;z-index: 1;position: relative;background-color: white;}#sk-container-id-10 div.sk-parallel-item:first-child::after {align-self: flex-end;width: 50%;}#sk-container-id-10 div.sk-parallel-item:last-child::after {align-self: flex-start;width: 50%;}#sk-container-id-10 div.sk-parallel-item:only-child::after {width: 0;}#sk-container-id-10 div.sk-dashed-wrapped {border: 1px dashed gray;margin: 0 0.4em 0.5em 0.4em;box-sizing: border-box;padding-bottom: 0.4em;background-color: white;}#sk-container-id-10 div.sk-label label {font-family: monospace;font-weight: bold;display: inline-block;line-height: 1.2em;}#sk-container-id-10 div.sk-label-container {text-align: center;}#sk-container-id-10 div.sk-container {/* jupyter's `normalize.less` sets `[hidden] { display: none; }` but bootstrap.min.css set `[hidden] { display: none !important; }` so we also need the `!important` here to be able to override the default hidden behavior on the sphinx rendered scikit-learn.org. See: https://github.com/scikit-learn/scikit-learn/issues/21755 */display: inline-block !important;position: relative;}#sk-container-id-10 div.sk-text-repr-fallback {display: none;}</style><div id=\"sk-container-id-10\" class=\"sk-top-container\"><div class=\"sk-text-repr-fallback\"><pre>LGBMRegressor(colsample_bytree=0.94, learning_rate=0.025, min_child_samples=4,\n",
       "              n_estimators=10000, objective=&#x27;rmse&#x27;, random_state=42,\n",
       "              reg_alpha=0.045)</pre><b>In a Jupyter environment, please rerun this cell to show the HTML representation or trust the notebook. <br />On GitHub, the HTML representation is unable to render, please try loading this page with nbviewer.org.</b></div><div class=\"sk-container\" hidden><div class=\"sk-item\"><div class=\"sk-estimator sk-toggleable\"><input class=\"sk-toggleable__control sk-hidden--visually\" id=\"sk-estimator-id-10\" type=\"checkbox\" checked><label for=\"sk-estimator-id-10\" class=\"sk-toggleable__label sk-toggleable__label-arrow\">LGBMRegressor</label><div class=\"sk-toggleable__content\"><pre>LGBMRegressor(colsample_bytree=0.94, learning_rate=0.025, min_child_samples=4,\n",
       "              n_estimators=10000, objective=&#x27;rmse&#x27;, random_state=42,\n",
       "              reg_alpha=0.045)</pre></div></div></div></div></div>"
      ],
      "text/plain": [
       "LGBMRegressor(colsample_bytree=0.94, learning_rate=0.025, min_child_samples=4,\n",
       "              n_estimators=10000, objective='rmse', random_state=42,\n",
       "              reg_alpha=0.045)"
      ]
     },
     "execution_count": 107,
     "metadata": {},
     "output_type": "execute_result"
    }
   ],
   "source": [
    "model.fit(X_train, y_train, eval_set=eval_set, eval_metric=['rmse','mae'],callbacks=callbacks)"
   ]
  },
  {
   "cell_type": "code",
   "execution_count": 103,
   "id": "648f9fa8-df6f-46b9-ad9c-ec657b077b52",
   "metadata": {},
   "outputs": [
    {
     "name": "stdout",
     "output_type": "stream",
     "text": [
      "0.13826115933367364 57844.49243141465 0.9045385348665909\n"
     ]
    }
   ],
   "source": [
    "val_pred = model.predict(X_val)\n",
    "print(metrics.mean_absolute_percentage_error(y_val,val_pred),\n",
    "      metrics.mean_absolute_error(y_val,val_pred),\n",
    "      metrics.r2_score(y_val,val_pred))"
   ]
  },
  {
   "cell_type": "code",
   "execution_count": 108,
   "id": "d6408638-fda5-4856-b823-8b3258d4bdc2",
   "metadata": {},
   "outputs": [
    {
     "name": "stdout",
     "output_type": "stream",
     "text": [
      "0.15426096273662182 64831.57680025173 0.8783312905405025\n"
     ]
    }
   ],
   "source": [
    "val_pred = model.predict(X_val)\n",
    "print(metrics.mean_absolute_percentage_error(y_val,val_pred),\n",
    "      metrics.mean_absolute_error(y_val,val_pred),\n",
    "      metrics.r2_score(y_val,val_pred))"
   ]
  },
  {
   "cell_type": "code",
   "execution_count": 82,
   "id": "5e6c7684-9d25-4747-8bb8-9ca1ba0252b1",
   "metadata": {},
   "outputs": [
    {
     "data": {
      "text/plain": [
       "odict_keys(['rmse', 'l1', 'l2'])"
      ]
     },
     "execution_count": 82,
     "metadata": {},
     "output_type": "execute_result"
    }
   ],
   "source": [
    "eval_result['training'].keys()"
   ]
  },
  {
   "cell_type": "code",
   "execution_count": 104,
   "id": "5c2e0b27-e19d-4beb-9629-74950c4ad4c1",
   "metadata": {},
   "outputs": [
    {
     "data": {
      "image/png": "[encoded data removed]",
      "text/plain": [
       "<Figure size 640x480 with 1 Axes>"
      ]
     },
     "metadata": {},
     "output_type": "display_data"
    }
   ],
   "source": [
    "epochs = len(eval_result['training']['l1'])\n",
    "x_axis = range(0, epochs)\n",
    "# plot log loss\n",
    "fig, ax = plt.subplots()\n",
    "ax.plot(x_axis, eval_result['training']['l1'], label='Train')\n",
    "ax.plot(x_axis, eval_result['valid_1']['l1'], label='Test')\n",
    "ax.legend()\n",
    "plt.ylabel('MAE')\n",
    "plt.title('LGBoost MAE')\n",
    "plt.show()"
   ]
  },
  {
   "cell_type": "code",
   "execution_count": 84,
   "id": "ce8d220d-fe25-4165-bd9d-3beee18cd15c",
   "metadata": {},
   "outputs": [
    {
     "data": {
      "text/plain": [
       "<lightgbm.basic.Booster at 0x20654910250>"
      ]
     },
     "execution_count": 84,
     "metadata": {},
     "output_type": "execute_result"
    }
   ],
   "source": [
    "model.booster_.save_model('./model/lgb_model_1.json')"
   ]
  },
  {
   "cell_type": "markdown",
   "id": "c1656845-a6a7-432b-b688-c7b785e10705",
   "metadata": {},
   "source": [
    "# Model tuning with optuna"
   ]
  },
  {
   "cell_type": "code",
   "execution_count": 27,
   "id": "7bb13890-e8bc-40d1-9903-bd9d2532df77",
   "metadata": {},
   "outputs": [],
   "source": [
    "import optuna \n",
    "from sklearn.metrics import r2_score\n",
    "from sklearn.model_selection import StratifiedKFold, KFold\n",
    "from optuna.integration import LightGBMPruningCallback"
   ]
  },
  {
   "cell_type": "code",
   "execution_count": 41,
   "id": "39091b77-750e-4a1a-87a5-ea81627ffe22",
   "metadata": {},
   "outputs": [],
   "source": [
    "train = read_sqlite_table('train', './data/train_test/train_data_lgb.db')\n",
    "test = read_sqlite_table('test', './data/train_test/test_data_lgb.db')\n",
    "train_target = train['price']\n",
    "train_data = train.drop('price', axis=1)\n",
    "test_target = test['price']\n",
    "test_data = test.drop('price', axis=1)"
   ]
  },
  {
   "cell_type": "code",
   "execution_count": 42,
   "id": "53968149-f111-4286-8c25-c6c7d5e25d3f",
   "metadata": {},
   "outputs": [],
   "source": [
    "def objective(trial, X, y):\n",
    "    param_grid = {\n",
    "        \"random_state\": trial.suggest_categorical(\"random_state\", [42]),\n",
    "        \"n_estimators\": trial.suggest_categorical(\"n_estimators\", [10000]),\n",
    "        \"learning_rate\": trial.suggest_float(\"learning_rate\", 0.001, 0.1),\n",
    "        \"num_leaves\": trial.suggest_int(\"num_leaves\", 20, 3000, step=20),\n",
    "        \"min_child_samples\": trial.suggest_int(\"min_data_in_leaf\", 0, 20, step=1),\n",
    "        \"reg_alpha\": trial.suggest_int(\"lambda_l1\", 0, 100, step=1),\n",
    "        \"reg_lambda\": trial.suggest_int(\"lambda_l2\", 0, 100, step=1),\n",
    "        \"min_split_gain\": trial.suggest_float(\"min_gain_to_split\", 0, 15, step=1),\n",
    "        \"subsample\": trial.suggest_float(\n",
    "            \"subsample\", 0.2, 0.99, step=0.01\n",
    "        ),\n",
    "        \"subsample_freq\": trial.suggest_categorical(\"subsample_freq\", [1]),\n",
    "        \"colsample_bytree\": trial.suggest_float(\n",
    "            \"feature_fraction\", 0.2, 0.99, step=0.01\n",
    "        ),\n",
    "    }\n",
    "\n",
    "    cv = KFold(n_splits=8, shuffle=True, random_state=42)\n",
    "\n",
    "    cv_scores = np.empty(8)\n",
    "    for idx, (train_idx, test_idx) in enumerate(cv.split(X, y)):\n",
    "        X_train, X_test = X.iloc[train_idx], X.iloc[test_idx]\n",
    "        y_train, y_test = y[train_idx], y[test_idx]\n",
    "\n",
    "        model = LGBMRegressor(objective=\"rmse\", **param_grid)\n",
    "        model.fit(\n",
    "            X_train,\n",
    "            y_train,\n",
    "            eval_set=[(X_test, y_test)],\n",
    "            eval_metric=\"rmse\",\n",
    "            callbacks=[\n",
    "                lgb.early_stopping(100, verbose=False)\n",
    "            ],  # Add a pruning callback\n",
    "        )\n",
    "        preds = model.predict(X_test)\n",
    "        cv_scores[idx] = metrics.mean_absolute_error(y_test, preds)\n",
    "    \n",
    "    return np.mean(cv_scores)"
   ]
  },
  {
   "cell_type": "code",
   "execution_count": null,
   "id": "f0d8b23b-99fd-4ccd-ba70-3f5b4c1aa688",
   "metadata": {},
   "outputs": [],
   "source": [
    "study = optuna.create_study(direction=\"minimize\", study_name=\"LGBM Regressor\")"
   ]
  },
  {
   "cell_type": "code",
   "execution_count": 43,
   "id": "db428462-6c58-47bd-b7d9-4a9b92676c60",
   "metadata": {},
   "outputs": [],
   "source": [
    "func = lambda trial: objective(trial, train_data, train_target)"
   ]
  },
  {
   "cell_type": "code",
   "execution_count": 6,
   "id": "a077a41d-4a35-4a7f-932c-cfb68644ccc0",
   "metadata": {},
   "outputs": [],
   "source": [
    "study = optuna.load_study(study_name=\"LGBM Regressor 1\", storage=\"sqlite:///model/LGBMRegressor_study.db\")"
   ]
  },
  {
   "cell_type": "code",
   "execution_count": 479,
   "id": "677d9151-cac7-4b87-9022-093430adafa6",
   "metadata": {},
   "outputs": [
    {
     "name": "stderr",
     "output_type": "stream",
     "text": [
      "[I 2023-06-24 22:23:28,995] A new study created in RDB with name: LGBM Regressor 1\n"
     ]
    }
   ],
   "source": [
    "save_study = optuna.create_study(study_name=\"LGBM Regressor 1\", storage=\"sqlite:///model/LGBMRegressor_study.db\")\n",
    "save_study.add_trials(study.trials)"
   ]
  },
  {
   "cell_type": "code",
   "execution_count": 47,
   "id": "205cc8c8-57fa-40b0-a01f-fea17a7bb96a",
   "metadata": {},
   "outputs": [
    {
     "name": "stdout",
     "output_type": "stream",
     "text": [
      "\tBest value (rmse): 67679.42952\n",
      "\tBest params:\n",
      "\t\tfeature_fraction: 0.9199999999999999\n",
      "\t\tlambda_l1: 93\n",
      "\t\tlambda_l2: 37\n",
      "\t\tlearning_rate: 0.0837329237459536\n",
      "\t\tmin_data_in_leaf: 7\n",
      "\t\tmin_gain_to_split: 6.0\n",
      "\t\tn_estimators: 10000\n",
      "\t\tnum_leaves: 1740\n",
      "\t\trandom_state: 42\n",
      "\t\tsubsample: 0.6100000000000001\n",
      "\t\tsubsample_freq: 1\n"
     ]
    }
   ],
   "source": [
    "print(f\"\\tBest value (rmse): {study.best_value:.5f}\")\n",
    "print(f\"\\tBest params:\")\n",
    "\n",
    "for key, value in study.best_params.items():\n",
    "    print(f\"\\t\\t{key}: {value}\")"
   ]
  },
  {
   "cell_type": "code",
   "execution_count": 46,
   "id": "e6c655d9-507e-4e90-b37f-e5171aa2d9dd",
   "metadata": {},
   "outputs": [
    {
     "name": "stderr",
     "output_type": "stream",
     "text": [
      "[I 2023-06-25 22:43:30,888] Trial 1508 finished with value: 68066.57593770779 and parameters: {'feature_fraction': 0.94, 'lambda_l1': 98, 'lambda_l2': 31, 'learning_rate': 0.08025117228788507, 'min_data_in_leaf': 8, 'min_gain_to_split': 5.0, 'n_estimators': 10000, 'num_leaves': 1980, 'random_state': 42, 'subsample': 0.6100000000000001, 'subsample_freq': 1}. Best is trial 1467 with value: 67679.4295177824.\n",
      "[I 2023-06-25 22:44:49,864] Trial 1509 finished with value: 68248.03787749754 and parameters: {'feature_fraction': 0.9299999999999999, 'lambda_l1': 95, 'lambda_l2': 34, 'learning_rate': 0.08066317963489224, 'min_data_in_leaf': 8, 'min_gain_to_split': 5.0, 'n_estimators': 10000, 'num_leaves': 1920, 'random_state': 42, 'subsample': 0.64, 'subsample_freq': 1}. Best is trial 1467 with value: 67679.4295177824.\n",
      "[I 2023-06-25 22:45:56,662] Trial 1510 finished with value: 68284.75262409303 and parameters: {'feature_fraction': 0.9199999999999999, 'lambda_l1': 97, 'lambda_l2': 32, 'learning_rate': 0.07717059466729842, 'min_data_in_leaf': 8, 'min_gain_to_split': 5.0, 'n_estimators': 10000, 'num_leaves': 1820, 'random_state': 42, 'subsample': 0.6000000000000001, 'subsample_freq': 1}. Best is trial 1467 with value: 67679.4295177824.\n",
      "[I 2023-06-25 22:47:16,278] Trial 1511 finished with value: 68048.81455202521 and parameters: {'feature_fraction': 0.94, 'lambda_l1': 95, 'lambda_l2': 36, 'learning_rate': 0.07895954976670079, 'min_data_in_leaf': 7, 'min_gain_to_split': 5.0, 'n_estimators': 10000, 'num_leaves': 1780, 'random_state': 42, 'subsample': 0.6100000000000001, 'subsample_freq': 1}. Best is trial 1467 with value: 67679.4295177824.\n",
      "[I 2023-06-25 22:48:44,561] Trial 1512 finished with value: 68178.61549657237 and parameters: {'feature_fraction': 0.9199999999999999, 'lambda_l1': 94, 'lambda_l2': 33, 'learning_rate': 0.07907494867744275, 'min_data_in_leaf': 8, 'min_gain_to_split': 5.0, 'n_estimators': 10000, 'num_leaves': 1900, 'random_state': 42, 'subsample': 0.62, 'subsample_freq': 1}. Best is trial 1467 with value: 67679.4295177824.\n",
      "[I 2023-06-25 22:50:07,565] Trial 1513 finished with value: 68144.40428085515 and parameters: {'feature_fraction': 0.94, 'lambda_l1': 97, 'lambda_l2': 37, 'learning_rate': 0.08104014820854956, 'min_data_in_leaf': 7, 'min_gain_to_split': 5.0, 'n_estimators': 10000, 'num_leaves': 1860, 'random_state': 42, 'subsample': 0.63, 'subsample_freq': 1}. Best is trial 1467 with value: 67679.4295177824.\n",
      "[I 2023-06-25 22:51:06,585] Trial 1514 finished with value: 68369.01399703443 and parameters: {'feature_fraction': 0.9199999999999999, 'lambda_l1': 93, 'lambda_l2': 35, 'learning_rate': 0.08132814963252419, 'min_data_in_leaf': 9, 'min_gain_to_split': 5.0, 'n_estimators': 10000, 'num_leaves': 1780, 'random_state': 42, 'subsample': 0.6000000000000001, 'subsample_freq': 1}. Best is trial 1467 with value: 67679.4295177824.\n",
      "[I 2023-06-25 22:52:23,537] Trial 1515 finished with value: 68045.7982264437 and parameters: {'feature_fraction': 0.9199999999999999, 'lambda_l1': 98, 'lambda_l2': 37, 'learning_rate': 0.07638658186875338, 'min_data_in_leaf': 8, 'min_gain_to_split': 5.0, 'n_estimators': 10000, 'num_leaves': 1940, 'random_state': 42, 'subsample': 0.65, 'subsample_freq': 1}. Best is trial 1467 with value: 67679.4295177824.\n",
      "[I 2023-06-25 22:53:55,075] Trial 1516 finished with value: 67756.28982607719 and parameters: {'feature_fraction': 0.94, 'lambda_l1': 95, 'lambda_l2': 31, 'learning_rate': 0.075351206027778, 'min_data_in_leaf': 7, 'min_gain_to_split': 5.0, 'n_estimators': 10000, 'num_leaves': 1720, 'random_state': 42, 'subsample': 0.63, 'subsample_freq': 1}. Best is trial 1467 with value: 67679.4295177824.\n",
      "[I 2023-06-25 22:55:13,241] Trial 1517 finished with value: 68131.79463100893 and parameters: {'feature_fraction': 0.94, 'lambda_l1': 96, 'lambda_l2': 32, 'learning_rate': 0.07630633986193834, 'min_data_in_leaf': 7, 'min_gain_to_split': 5.0, 'n_estimators': 10000, 'num_leaves': 1720, 'random_state': 42, 'subsample': 0.63, 'subsample_freq': 1}. Best is trial 1467 with value: 67679.4295177824.\n",
      "[I 2023-06-25 22:56:32,454] Trial 1518 finished with value: 68054.05455813537 and parameters: {'feature_fraction': 0.94, 'lambda_l1': 95, 'lambda_l2': 34, 'learning_rate': 0.07532908590491877, 'min_data_in_leaf': 7, 'min_gain_to_split': 5.0, 'n_estimators': 10000, 'num_leaves': 1840, 'random_state': 42, 'subsample': 0.6100000000000001, 'subsample_freq': 1}. Best is trial 1467 with value: 67679.4295177824.\n",
      "[I 2023-06-25 22:57:40,962] Trial 1519 finished with value: 68466.645069232 and parameters: {'feature_fraction': 0.94, 'lambda_l1': 98, 'lambda_l2': 31, 'learning_rate': 0.07822864072934227, 'min_data_in_leaf': 8, 'min_gain_to_split': 5.0, 'n_estimators': 10000, 'num_leaves': 1780, 'random_state': 42, 'subsample': 0.64, 'subsample_freq': 1}. Best is trial 1467 with value: 67679.4295177824.\n",
      "[I 2023-06-25 22:59:10,922] Trial 1520 finished with value: 68082.4755506581 and parameters: {'feature_fraction': 0.9299999999999999, 'lambda_l1': 94, 'lambda_l2': 31, 'learning_rate': 0.07963330060881511, 'min_data_in_leaf': 7, 'min_gain_to_split': 5.0, 'n_estimators': 10000, 'num_leaves': 1720, 'random_state': 42, 'subsample': 0.62, 'subsample_freq': 1}. Best is trial 1467 with value: 67679.4295177824.\n",
      "[I 2023-06-25 23:00:32,357] Trial 1521 finished with value: 67885.74872904716 and parameters: {'feature_fraction': 0.9299999999999999, 'lambda_l1': 96, 'lambda_l2': 35, 'learning_rate': 0.0754925034387949, 'min_data_in_leaf': 7, 'min_gain_to_split': 5.0, 'n_estimators': 10000, 'num_leaves': 1980, 'random_state': 42, 'subsample': 0.6100000000000001, 'subsample_freq': 1}. Best is trial 1467 with value: 67679.4295177824.\n",
      "[I 2023-06-25 23:02:09,433] Trial 1522 finished with value: 68087.48479949922 and parameters: {'feature_fraction': 0.94, 'lambda_l1': 97, 'lambda_l2': 36, 'learning_rate': 0.07541919677716458, 'min_data_in_leaf': 7, 'min_gain_to_split': 5.0, 'n_estimators': 10000, 'num_leaves': 1980, 'random_state': 42, 'subsample': 0.64, 'subsample_freq': 1}. Best is trial 1467 with value: 67679.4295177824.\n",
      "[I 2023-06-25 23:03:23,052] Trial 1523 finished with value: 67971.324538981 and parameters: {'feature_fraction': 0.9199999999999999, 'lambda_l1': 93, 'lambda_l2': 33, 'learning_rate': 0.08114742488092258, 'min_data_in_leaf': 7, 'min_gain_to_split': 5.0, 'n_estimators': 10000, 'num_leaves': 2000, 'random_state': 42, 'subsample': 0.6000000000000001, 'subsample_freq': 1}. Best is trial 1467 with value: 67679.4295177824.\n",
      "[I 2023-06-25 23:04:38,057] Trial 1524 finished with value: 67832.81764592417 and parameters: {'feature_fraction': 0.94, 'lambda_l1': 92, 'lambda_l2': 37, 'learning_rate': 0.08177955006310192, 'min_data_in_leaf': 7, 'min_gain_to_split': 5.0, 'n_estimators': 10000, 'num_leaves': 2020, 'random_state': 42, 'subsample': 0.6000000000000001, 'subsample_freq': 1}. Best is trial 1467 with value: 67679.4295177824.\n",
      "[I 2023-06-25 23:05:43,800] Trial 1525 finished with value: 72526.13713768168 and parameters: {'feature_fraction': 0.41000000000000003, 'lambda_l1': 92, 'lambda_l2': 38, 'learning_rate': 0.08109445971612075, 'min_data_in_leaf': 7, 'min_gain_to_split': 5.0, 'n_estimators': 10000, 'num_leaves': 2020, 'random_state': 42, 'subsample': 0.6000000000000001, 'subsample_freq': 1}. Best is trial 1467 with value: 67679.4295177824.\n",
      "[I 2023-06-25 23:07:11,498] Trial 1526 finished with value: 68163.43527358944 and parameters: {'feature_fraction': 0.94, 'lambda_l1': 92, 'lambda_l2': 35, 'learning_rate': 0.08161582925322354, 'min_data_in_leaf': 7, 'min_gain_to_split': 5.0, 'n_estimators': 10000, 'num_leaves': 2000, 'random_state': 42, 'subsample': 0.6000000000000001, 'subsample_freq': 1}. Best is trial 1467 with value: 67679.4295177824.\n",
      "[I 2023-06-25 23:08:39,122] Trial 1527 finished with value: 68423.25195969452 and parameters: {'feature_fraction': 0.94, 'lambda_l1': 92, 'lambda_l2': 31, 'learning_rate': 0.07798511087354869, 'min_data_in_leaf': 8, 'min_gain_to_split': 5.0, 'n_estimators': 10000, 'num_leaves': 1940, 'random_state': 42, 'subsample': 0.63, 'subsample_freq': 1}. Best is trial 1467 with value: 67679.4295177824.\n",
      "[I 2023-06-25 23:09:44,722] Trial 1528 finished with value: 67887.9082756757 and parameters: {'feature_fraction': 0.94, 'lambda_l1': 93, 'lambda_l2': 38, 'learning_rate': 0.08138763092373409, 'min_data_in_leaf': 7, 'min_gain_to_split': 5.0, 'n_estimators': 10000, 'num_leaves': 2000, 'random_state': 42, 'subsample': 0.6000000000000001, 'subsample_freq': 1}. Best is trial 1467 with value: 67679.4295177824.\n",
      "[I 2023-06-25 23:10:50,545] Trial 1529 finished with value: 67956.9134228544 and parameters: {'feature_fraction': 0.94, 'lambda_l1': 92, 'lambda_l2': 38, 'learning_rate': 0.08342638549160249, 'min_data_in_leaf': 7, 'min_gain_to_split': 5.0, 'n_estimators': 10000, 'num_leaves': 2020, 'random_state': 42, 'subsample': 0.6000000000000001, 'subsample_freq': 1}. Best is trial 1467 with value: 67679.4295177824.\n",
      "[I 2023-06-25 23:12:22,803] Trial 1530 finished with value: 68309.16521099771 and parameters: {'feature_fraction': 0.95, 'lambda_l1': 92, 'lambda_l2': 37, 'learning_rate': 0.08154788158060715, 'min_data_in_leaf': 7, 'min_gain_to_split': 5.0, 'n_estimators': 10000, 'num_leaves': 2020, 'random_state': 42, 'subsample': 0.65, 'subsample_freq': 1}. Best is trial 1467 with value: 67679.4295177824.\n",
      "[I 2023-06-25 23:13:42,652] Trial 1531 finished with value: 68269.8206712264 and parameters: {'feature_fraction': 0.95, 'lambda_l1': 92, 'lambda_l2': 38, 'learning_rate': 0.08348696426657429, 'min_data_in_leaf': 8, 'min_gain_to_split': 5.0, 'n_estimators': 10000, 'num_leaves': 2040, 'random_state': 42, 'subsample': 0.6000000000000001, 'subsample_freq': 1}. Best is trial 1467 with value: 67679.4295177824.\n",
      "[I 2023-06-25 23:14:56,899] Trial 1532 finished with value: 68086.91691083091 and parameters: {'feature_fraction': 0.94, 'lambda_l1': 93, 'lambda_l2': 35, 'learning_rate': 0.08131318914318704, 'min_data_in_leaf': 7, 'min_gain_to_split': 5.0, 'n_estimators': 10000, 'num_leaves': 1980, 'random_state': 42, 'subsample': 0.63, 'subsample_freq': 1}. Best is trial 1467 with value: 67679.4295177824.\n",
      "[I 2023-06-25 23:16:25,074] Trial 1533 finished with value: 68017.2629836108 and parameters: {'feature_fraction': 0.94, 'lambda_l1': 98, 'lambda_l2': 37, 'learning_rate': 0.0833045373580967, 'min_data_in_leaf': 7, 'min_gain_to_split': 5.0, 'n_estimators': 10000, 'num_leaves': 1880, 'random_state': 42, 'subsample': 0.65, 'subsample_freq': 1}. Best is trial 1467 with value: 67679.4295177824.\n",
      "[I 2023-06-25 23:17:33,188] Trial 1534 finished with value: 68033.7997682137 and parameters: {'feature_fraction': 0.94, 'lambda_l1': 96, 'lambda_l2': 35, 'learning_rate': 0.07531371672759138, 'min_data_in_leaf': 8, 'min_gain_to_split': 5.0, 'n_estimators': 10000, 'num_leaves': 2000, 'random_state': 42, 'subsample': 0.6000000000000001, 'subsample_freq': 1}. Best is trial 1467 with value: 67679.4295177824.\n",
      "[I 2023-06-25 23:19:00,398] Trial 1535 finished with value: 68096.67970139941 and parameters: {'feature_fraction': 0.95, 'lambda_l1': 93, 'lambda_l2': 38, 'learning_rate': 0.07838183882955276, 'min_data_in_leaf': 7, 'min_gain_to_split': 5.0, 'n_estimators': 10000, 'num_leaves': 1960, 'random_state': 42, 'subsample': 0.62, 'subsample_freq': 1}. Best is trial 1467 with value: 67679.4295177824.\n",
      "[I 2023-06-25 23:20:25,131] Trial 1536 finished with value: 68427.67240624459 and parameters: {'feature_fraction': 0.9199999999999999, 'lambda_l1': 92, 'lambda_l2': 33, 'learning_rate': 0.08034551951869881, 'min_data_in_leaf': 8, 'min_gain_to_split': 5.0, 'n_estimators': 10000, 'num_leaves': 1740, 'random_state': 42, 'subsample': 0.6000000000000001, 'subsample_freq': 1}. Best is trial 1467 with value: 67679.4295177824.\n",
      "[I 2023-06-25 23:21:20,727] Trial 1537 finished with value: 68242.88932857705 and parameters: {'feature_fraction': 0.9299999999999999, 'lambda_l1': 96, 'lambda_l2': 35, 'learning_rate': 0.08290082511555677, 'min_data_in_leaf': 9, 'min_gain_to_split': 5.0, 'n_estimators': 10000, 'num_leaves': 1880, 'random_state': 42, 'subsample': 0.63, 'subsample_freq': 1}. Best is trial 1467 with value: 67679.4295177824.\n",
      "[I 2023-06-25 23:22:41,941] Trial 1538 finished with value: 67924.76900855562 and parameters: {'feature_fraction': 0.95, 'lambda_l1': 94, 'lambda_l2': 38, 'learning_rate': 0.08131435541586367, 'min_data_in_leaf': 7, 'min_gain_to_split': 5.0, 'n_estimators': 10000, 'num_leaves': 1700, 'random_state': 42, 'subsample': 0.62, 'subsample_freq': 1}. Best is trial 1467 with value: 67679.4295177824.\n",
      "[I 2023-06-25 23:23:42,276] Trial 1539 finished with value: 68228.14381482892 and parameters: {'feature_fraction': 0.95, 'lambda_l1': 92, 'lambda_l2': 38, 'learning_rate': 0.07762721387813008, 'min_data_in_leaf': 7, 'min_gain_to_split': 5.0, 'n_estimators': 10000, 'num_leaves': 1800, 'random_state': 42, 'subsample': 0.5900000000000001, 'subsample_freq': 1}. Best is trial 1467 with value: 67679.4295177824.\n",
      "[I 2023-06-25 23:25:01,912] Trial 1540 finished with value: 68264.0239325077 and parameters: {'feature_fraction': 0.95, 'lambda_l1': 98, 'lambda_l2': 31, 'learning_rate': 0.08027801229842936, 'min_data_in_leaf': 8, 'min_gain_to_split': 5.0, 'n_estimators': 10000, 'num_leaves': 1960, 'random_state': 42, 'subsample': 0.65, 'subsample_freq': 1}. Best is trial 1467 with value: 67679.4295177824.\n",
      "[I 2023-06-25 23:26:12,742] Trial 1541 finished with value: 67844.89981031456 and parameters: {'feature_fraction': 0.95, 'lambda_l1': 94, 'lambda_l2': 34, 'learning_rate': 0.07806212265046329, 'min_data_in_leaf': 7, 'min_gain_to_split': 5.0, 'n_estimators': 10000, 'num_leaves': 1700, 'random_state': 42, 'subsample': 0.6000000000000001, 'subsample_freq': 1}. Best is trial 1467 with value: 67679.4295177824.\n",
      "[I 2023-06-25 23:27:36,730] Trial 1542 finished with value: 67911.08604728497 and parameters: {'feature_fraction': 0.94, 'lambda_l1': 94, 'lambda_l2': 33, 'learning_rate': 0.07551643575102061, 'min_data_in_leaf': 7, 'min_gain_to_split': 5.0, 'n_estimators': 10000, 'num_leaves': 1680, 'random_state': 42, 'subsample': 0.6000000000000001, 'subsample_freq': 1}. Best is trial 1467 with value: 67679.4295177824.\n",
      "[I 2023-06-25 23:29:21,295] Trial 1543 finished with value: 68083.14201006346 and parameters: {'feature_fraction': 0.95, 'lambda_l1': 92, 'lambda_l2': 31, 'learning_rate': 0.07563121977414924, 'min_data_in_leaf': 7, 'min_gain_to_split': 5.0, 'n_estimators': 10000, 'num_leaves': 1700, 'random_state': 42, 'subsample': 0.5900000000000001, 'subsample_freq': 1}. Best is trial 1467 with value: 67679.4295177824.\n",
      "[W 2023-06-25 23:30:13,739] Trial 1544 failed with parameters: {'feature_fraction': 0.95, 'lambda_l1': 93, 'lambda_l2': 33, 'learning_rate': 0.07539326904752558, 'min_data_in_leaf': 7, 'min_gain_to_split': 5.0, 'n_estimators': 10000, 'num_leaves': 1700, 'random_state': 42, 'subsample': 0.5900000000000001, 'subsample_freq': 1} because of the following error: KeyboardInterrupt().\n",
      "Traceback (most recent call last):\n",
      "  File \"C:\\ProgramData\\Anaconda3\\lib\\site-packages\\optuna\\study\\_optimize.py\", line 200, in _run_trial\n",
      "    value_or_values = func(trial)\n",
      "  File \"C:\\Users\\raffa\\AppData\\Local\\Temp\\ipykernel_5364\\3387627564.py\", line 1, in <lambda>\n",
      "    func = lambda trial: objective(trial, train_data, train_target)\n",
      "  File \"C:\\Users\\raffa\\AppData\\Local\\Temp\\ipykernel_5364\\4254327883.py\", line 28, in objective\n",
      "    model.fit(\n",
      "  File \"C:\\ProgramData\\Anaconda3\\lib\\site-packages\\lightgbm\\sklearn.py\", line 895, in fit\n",
      "    super().fit(X, y, sample_weight=sample_weight, init_score=init_score,\n",
      "  File \"C:\\ProgramData\\Anaconda3\\lib\\site-packages\\lightgbm\\sklearn.py\", line 748, in fit\n",
      "    self._Booster = train(\n",
      "  File \"C:\\ProgramData\\Anaconda3\\lib\\site-packages\\lightgbm\\engine.py\", line 292, in train\n",
      "    booster.update(fobj=fobj)\n",
      "  File \"C:\\ProgramData\\Anaconda3\\lib\\site-packages\\lightgbm\\basic.py\", line 3021, in update\n",
      "    _safe_call(_LIB.LGBM_BoosterUpdateOneIter(\n",
      "KeyboardInterrupt\n",
      "[W 2023-06-25 23:30:13,750] Trial 1544 failed with value None.\n"
     ]
    },
    {
     "ename": "KeyboardInterrupt",
     "evalue": "",
     "output_type": "error",
     "traceback": [
      "\u001b[1;31m---------------------------------------------------------------------------\u001b[0m",
      "\u001b[1;31mKeyboardInterrupt\u001b[0m                         Traceback (most recent call last)",
      "Cell \u001b[1;32mIn[46], line 1\u001b[0m\n\u001b[1;32m----> 1\u001b[0m \u001b[43mstudy\u001b[49m\u001b[38;5;241;43m.\u001b[39;49m\u001b[43moptimize\u001b[49m\u001b[43m(\u001b[49m\u001b[43mfunc\u001b[49m\u001b[43m,\u001b[49m\u001b[43m \u001b[49m\u001b[43mn_trials\u001b[49m\u001b[38;5;241;43m=\u001b[39;49m\u001b[38;5;241;43m100\u001b[39;49m\u001b[43m)\u001b[49m\n",
      "File \u001b[1;32mC:\\ProgramData\\Anaconda3\\lib\\site-packages\\optuna\\study\\study.py:443\u001b[0m, in \u001b[0;36mStudy.optimize\u001b[1;34m(self, func, n_trials, timeout, n_jobs, catch, callbacks, gc_after_trial, show_progress_bar)\u001b[0m\n\u001b[0;32m    339\u001b[0m \u001b[38;5;28;01mdef\u001b[39;00m \u001b[38;5;21moptimize\u001b[39m(\n\u001b[0;32m    340\u001b[0m     \u001b[38;5;28mself\u001b[39m,\n\u001b[0;32m    341\u001b[0m     func: ObjectiveFuncType,\n\u001b[1;32m   (...)\u001b[0m\n\u001b[0;32m    348\u001b[0m     show_progress_bar: \u001b[38;5;28mbool\u001b[39m \u001b[38;5;241m=\u001b[39m \u001b[38;5;28;01mFalse\u001b[39;00m,\n\u001b[0;32m    349\u001b[0m ) \u001b[38;5;241m-\u001b[39m\u001b[38;5;241m>\u001b[39m \u001b[38;5;28;01mNone\u001b[39;00m:\n\u001b[0;32m    350\u001b[0m     \u001b[38;5;124;03m\"\"\"Optimize an objective function.\u001b[39;00m\n\u001b[0;32m    351\u001b[0m \n\u001b[0;32m    352\u001b[0m \u001b[38;5;124;03m    Optimization is done by choosing a suitable set of hyperparameter values from a given\u001b[39;00m\n\u001b[1;32m   (...)\u001b[0m\n\u001b[0;32m    440\u001b[0m \u001b[38;5;124;03m            If nested invocation of this method occurs.\u001b[39;00m\n\u001b[0;32m    441\u001b[0m \u001b[38;5;124;03m    \"\"\"\u001b[39;00m\n\u001b[1;32m--> 443\u001b[0m     \u001b[43m_optimize\u001b[49m\u001b[43m(\u001b[49m\n\u001b[0;32m    444\u001b[0m \u001b[43m        \u001b[49m\u001b[43mstudy\u001b[49m\u001b[38;5;241;43m=\u001b[39;49m\u001b[38;5;28;43mself\u001b[39;49m\u001b[43m,\u001b[49m\n\u001b[0;32m    445\u001b[0m \u001b[43m        \u001b[49m\u001b[43mfunc\u001b[49m\u001b[38;5;241;43m=\u001b[39;49m\u001b[43mfunc\u001b[49m\u001b[43m,\u001b[49m\n\u001b[0;32m    446\u001b[0m \u001b[43m        \u001b[49m\u001b[43mn_trials\u001b[49m\u001b[38;5;241;43m=\u001b[39;49m\u001b[43mn_trials\u001b[49m\u001b[43m,\u001b[49m\n\u001b[0;32m    447\u001b[0m \u001b[43m        \u001b[49m\u001b[43mtimeout\u001b[49m\u001b[38;5;241;43m=\u001b[39;49m\u001b[43mtimeout\u001b[49m\u001b[43m,\u001b[49m\n\u001b[0;32m    448\u001b[0m \u001b[43m        \u001b[49m\u001b[43mn_jobs\u001b[49m\u001b[38;5;241;43m=\u001b[39;49m\u001b[43mn_jobs\u001b[49m\u001b[43m,\u001b[49m\n\u001b[0;32m    449\u001b[0m \u001b[43m        \u001b[49m\u001b[43mcatch\u001b[49m\u001b[38;5;241;43m=\u001b[39;49m\u001b[38;5;28;43mtuple\u001b[39;49m\u001b[43m(\u001b[49m\u001b[43mcatch\u001b[49m\u001b[43m)\u001b[49m\u001b[43m \u001b[49m\u001b[38;5;28;43;01mif\u001b[39;49;00m\u001b[43m \u001b[49m\u001b[38;5;28;43misinstance\u001b[39;49m\u001b[43m(\u001b[49m\u001b[43mcatch\u001b[49m\u001b[43m,\u001b[49m\u001b[43m \u001b[49m\u001b[43mIterable\u001b[49m\u001b[43m)\u001b[49m\u001b[43m \u001b[49m\u001b[38;5;28;43;01melse\u001b[39;49;00m\u001b[43m \u001b[49m\u001b[43m(\u001b[49m\u001b[43mcatch\u001b[49m\u001b[43m,\u001b[49m\u001b[43m)\u001b[49m\u001b[43m,\u001b[49m\n\u001b[0;32m    450\u001b[0m \u001b[43m        \u001b[49m\u001b[43mcallbacks\u001b[49m\u001b[38;5;241;43m=\u001b[39;49m\u001b[43mcallbacks\u001b[49m\u001b[43m,\u001b[49m\n\u001b[0;32m    451\u001b[0m \u001b[43m        \u001b[49m\u001b[43mgc_after_trial\u001b[49m\u001b[38;5;241;43m=\u001b[39;49m\u001b[43mgc_after_trial\u001b[49m\u001b[43m,\u001b[49m\n\u001b[0;32m    452\u001b[0m \u001b[43m        \u001b[49m\u001b[43mshow_progress_bar\u001b[49m\u001b[38;5;241;43m=\u001b[39;49m\u001b[43mshow_progress_bar\u001b[49m\u001b[43m,\u001b[49m\n\u001b[0;32m    453\u001b[0m \u001b[43m    \u001b[49m\u001b[43m)\u001b[49m\n",
      "File \u001b[1;32mC:\\ProgramData\\Anaconda3\\lib\\site-packages\\optuna\\study\\_optimize.py:66\u001b[0m, in \u001b[0;36m_optimize\u001b[1;34m(study, func, n_trials, timeout, n_jobs, catch, callbacks, gc_after_trial, show_progress_bar)\u001b[0m\n\u001b[0;32m     64\u001b[0m \u001b[38;5;28;01mtry\u001b[39;00m:\n\u001b[0;32m     65\u001b[0m     \u001b[38;5;28;01mif\u001b[39;00m n_jobs \u001b[38;5;241m==\u001b[39m \u001b[38;5;241m1\u001b[39m:\n\u001b[1;32m---> 66\u001b[0m         \u001b[43m_optimize_sequential\u001b[49m\u001b[43m(\u001b[49m\n\u001b[0;32m     67\u001b[0m \u001b[43m            \u001b[49m\u001b[43mstudy\u001b[49m\u001b[43m,\u001b[49m\n\u001b[0;32m     68\u001b[0m \u001b[43m            \u001b[49m\u001b[43mfunc\u001b[49m\u001b[43m,\u001b[49m\n\u001b[0;32m     69\u001b[0m \u001b[43m            \u001b[49m\u001b[43mn_trials\u001b[49m\u001b[43m,\u001b[49m\n\u001b[0;32m     70\u001b[0m \u001b[43m            \u001b[49m\u001b[43mtimeout\u001b[49m\u001b[43m,\u001b[49m\n\u001b[0;32m     71\u001b[0m \u001b[43m            \u001b[49m\u001b[43mcatch\u001b[49m\u001b[43m,\u001b[49m\n\u001b[0;32m     72\u001b[0m \u001b[43m            \u001b[49m\u001b[43mcallbacks\u001b[49m\u001b[43m,\u001b[49m\n\u001b[0;32m     73\u001b[0m \u001b[43m            \u001b[49m\u001b[43mgc_after_trial\u001b[49m\u001b[43m,\u001b[49m\n\u001b[0;32m     74\u001b[0m \u001b[43m            \u001b[49m\u001b[43mreseed_sampler_rng\u001b[49m\u001b[38;5;241;43m=\u001b[39;49m\u001b[38;5;28;43;01mFalse\u001b[39;49;00m\u001b[43m,\u001b[49m\n\u001b[0;32m     75\u001b[0m \u001b[43m            \u001b[49m\u001b[43mtime_start\u001b[49m\u001b[38;5;241;43m=\u001b[39;49m\u001b[38;5;28;43;01mNone\u001b[39;49;00m\u001b[43m,\u001b[49m\n\u001b[0;32m     76\u001b[0m \u001b[43m            \u001b[49m\u001b[43mprogress_bar\u001b[49m\u001b[38;5;241;43m=\u001b[39;49m\u001b[43mprogress_bar\u001b[49m\u001b[43m,\u001b[49m\n\u001b[0;32m     77\u001b[0m \u001b[43m        \u001b[49m\u001b[43m)\u001b[49m\n\u001b[0;32m     78\u001b[0m     \u001b[38;5;28;01melse\u001b[39;00m:\n\u001b[0;32m     79\u001b[0m         \u001b[38;5;28;01mif\u001b[39;00m n_jobs \u001b[38;5;241m==\u001b[39m \u001b[38;5;241m-\u001b[39m\u001b[38;5;241m1\u001b[39m:\n",
      "File \u001b[1;32mC:\\ProgramData\\Anaconda3\\lib\\site-packages\\optuna\\study\\_optimize.py:163\u001b[0m, in \u001b[0;36m_optimize_sequential\u001b[1;34m(study, func, n_trials, timeout, catch, callbacks, gc_after_trial, reseed_sampler_rng, time_start, progress_bar)\u001b[0m\n\u001b[0;32m    160\u001b[0m         \u001b[38;5;28;01mbreak\u001b[39;00m\n\u001b[0;32m    162\u001b[0m \u001b[38;5;28;01mtry\u001b[39;00m:\n\u001b[1;32m--> 163\u001b[0m     frozen_trial \u001b[38;5;241m=\u001b[39m \u001b[43m_run_trial\u001b[49m\u001b[43m(\u001b[49m\u001b[43mstudy\u001b[49m\u001b[43m,\u001b[49m\u001b[43m \u001b[49m\u001b[43mfunc\u001b[49m\u001b[43m,\u001b[49m\u001b[43m \u001b[49m\u001b[43mcatch\u001b[49m\u001b[43m)\u001b[49m\n\u001b[0;32m    164\u001b[0m \u001b[38;5;28;01mfinally\u001b[39;00m:\n\u001b[0;32m    165\u001b[0m     \u001b[38;5;66;03m# The following line mitigates memory problems that can be occurred in some\u001b[39;00m\n\u001b[0;32m    166\u001b[0m     \u001b[38;5;66;03m# environments (e.g., services that use computing containers such as GitHub Actions).\u001b[39;00m\n\u001b[0;32m    167\u001b[0m     \u001b[38;5;66;03m# Please refer to the following PR for further details:\u001b[39;00m\n\u001b[0;32m    168\u001b[0m     \u001b[38;5;66;03m# https://github.com/optuna/optuna/pull/325.\u001b[39;00m\n\u001b[0;32m    169\u001b[0m     \u001b[38;5;28;01mif\u001b[39;00m gc_after_trial:\n",
      "File \u001b[1;32mC:\\ProgramData\\Anaconda3\\lib\\site-packages\\optuna\\study\\_optimize.py:251\u001b[0m, in \u001b[0;36m_run_trial\u001b[1;34m(study, func, catch)\u001b[0m\n\u001b[0;32m    244\u001b[0m         \u001b[38;5;28;01massert\u001b[39;00m \u001b[38;5;28;01mFalse\u001b[39;00m, \u001b[38;5;124m\"\u001b[39m\u001b[38;5;124mShould not reach.\u001b[39m\u001b[38;5;124m\"\u001b[39m\n\u001b[0;32m    246\u001b[0m \u001b[38;5;28;01mif\u001b[39;00m (\n\u001b[0;32m    247\u001b[0m     frozen_trial\u001b[38;5;241m.\u001b[39mstate \u001b[38;5;241m==\u001b[39m TrialState\u001b[38;5;241m.\u001b[39mFAIL\n\u001b[0;32m    248\u001b[0m     \u001b[38;5;129;01mand\u001b[39;00m func_err \u001b[38;5;129;01mis\u001b[39;00m \u001b[38;5;129;01mnot\u001b[39;00m \u001b[38;5;28;01mNone\u001b[39;00m\n\u001b[0;32m    249\u001b[0m     \u001b[38;5;129;01mand\u001b[39;00m \u001b[38;5;129;01mnot\u001b[39;00m \u001b[38;5;28misinstance\u001b[39m(func_err, catch)\n\u001b[0;32m    250\u001b[0m ):\n\u001b[1;32m--> 251\u001b[0m     \u001b[38;5;28;01mraise\u001b[39;00m func_err\n\u001b[0;32m    252\u001b[0m \u001b[38;5;28;01mreturn\u001b[39;00m frozen_trial\n",
      "File \u001b[1;32mC:\\ProgramData\\Anaconda3\\lib\\site-packages\\optuna\\study\\_optimize.py:200\u001b[0m, in \u001b[0;36m_run_trial\u001b[1;34m(study, func, catch)\u001b[0m\n\u001b[0;32m    198\u001b[0m \u001b[38;5;28;01mwith\u001b[39;00m get_heartbeat_thread(trial\u001b[38;5;241m.\u001b[39m_trial_id, study\u001b[38;5;241m.\u001b[39m_storage):\n\u001b[0;32m    199\u001b[0m     \u001b[38;5;28;01mtry\u001b[39;00m:\n\u001b[1;32m--> 200\u001b[0m         value_or_values \u001b[38;5;241m=\u001b[39m \u001b[43mfunc\u001b[49m\u001b[43m(\u001b[49m\u001b[43mtrial\u001b[49m\u001b[43m)\u001b[49m\n\u001b[0;32m    201\u001b[0m     \u001b[38;5;28;01mexcept\u001b[39;00m exceptions\u001b[38;5;241m.\u001b[39mTrialPruned \u001b[38;5;28;01mas\u001b[39;00m e:\n\u001b[0;32m    202\u001b[0m         \u001b[38;5;66;03m# TODO(mamu): Handle multi-objective cases.\u001b[39;00m\n\u001b[0;32m    203\u001b[0m         state \u001b[38;5;241m=\u001b[39m TrialState\u001b[38;5;241m.\u001b[39mPRUNED\n",
      "Cell \u001b[1;32mIn[43], line 1\u001b[0m, in \u001b[0;36m<lambda>\u001b[1;34m(trial)\u001b[0m\n\u001b[1;32m----> 1\u001b[0m func \u001b[38;5;241m=\u001b[39m \u001b[38;5;28;01mlambda\u001b[39;00m trial: \u001b[43mobjective\u001b[49m\u001b[43m(\u001b[49m\u001b[43mtrial\u001b[49m\u001b[43m,\u001b[49m\u001b[43m \u001b[49m\u001b[43mtrain_data\u001b[49m\u001b[43m,\u001b[49m\u001b[43m \u001b[49m\u001b[43mtrain_target\u001b[49m\u001b[43m)\u001b[49m\n",
      "Cell \u001b[1;32mIn[42], line 28\u001b[0m, in \u001b[0;36mobjective\u001b[1;34m(trial, X, y)\u001b[0m\n\u001b[0;32m     25\u001b[0m y_train, y_test \u001b[38;5;241m=\u001b[39m y[train_idx], y[test_idx]\n\u001b[0;32m     27\u001b[0m model \u001b[38;5;241m=\u001b[39m LGBMRegressor(objective\u001b[38;5;241m=\u001b[39m\u001b[38;5;124m\"\u001b[39m\u001b[38;5;124mrmse\u001b[39m\u001b[38;5;124m\"\u001b[39m, \u001b[38;5;241m*\u001b[39m\u001b[38;5;241m*\u001b[39mparam_grid)\n\u001b[1;32m---> 28\u001b[0m \u001b[43mmodel\u001b[49m\u001b[38;5;241;43m.\u001b[39;49m\u001b[43mfit\u001b[49m\u001b[43m(\u001b[49m\n\u001b[0;32m     29\u001b[0m \u001b[43m    \u001b[49m\u001b[43mX_train\u001b[49m\u001b[43m,\u001b[49m\n\u001b[0;32m     30\u001b[0m \u001b[43m    \u001b[49m\u001b[43my_train\u001b[49m\u001b[43m,\u001b[49m\n\u001b[0;32m     31\u001b[0m \u001b[43m    \u001b[49m\u001b[43meval_set\u001b[49m\u001b[38;5;241;43m=\u001b[39;49m\u001b[43m[\u001b[49m\u001b[43m(\u001b[49m\u001b[43mX_test\u001b[49m\u001b[43m,\u001b[49m\u001b[43m \u001b[49m\u001b[43my_test\u001b[49m\u001b[43m)\u001b[49m\u001b[43m]\u001b[49m\u001b[43m,\u001b[49m\n\u001b[0;32m     32\u001b[0m \u001b[43m    \u001b[49m\u001b[43meval_metric\u001b[49m\u001b[38;5;241;43m=\u001b[39;49m\u001b[38;5;124;43m\"\u001b[39;49m\u001b[38;5;124;43mrmse\u001b[39;49m\u001b[38;5;124;43m\"\u001b[39;49m\u001b[43m,\u001b[49m\n\u001b[0;32m     33\u001b[0m \u001b[43m    \u001b[49m\u001b[43mcallbacks\u001b[49m\u001b[38;5;241;43m=\u001b[39;49m\u001b[43m[\u001b[49m\n\u001b[0;32m     34\u001b[0m \u001b[43m        \u001b[49m\u001b[43mlgb\u001b[49m\u001b[38;5;241;43m.\u001b[39;49m\u001b[43mearly_stopping\u001b[49m\u001b[43m(\u001b[49m\u001b[38;5;241;43m100\u001b[39;49m\u001b[43m,\u001b[49m\u001b[43m \u001b[49m\u001b[43mverbose\u001b[49m\u001b[38;5;241;43m=\u001b[39;49m\u001b[38;5;28;43;01mFalse\u001b[39;49;00m\u001b[43m)\u001b[49m\n\u001b[0;32m     35\u001b[0m \u001b[43m    \u001b[49m\u001b[43m]\u001b[49m\u001b[43m,\u001b[49m\u001b[43m  \u001b[49m\u001b[38;5;66;43;03m# Add a pruning callback\u001b[39;49;00m\n\u001b[0;32m     36\u001b[0m \u001b[43m\u001b[49m\u001b[43m)\u001b[49m\n\u001b[0;32m     37\u001b[0m preds \u001b[38;5;241m=\u001b[39m model\u001b[38;5;241m.\u001b[39mpredict(X_test)\n\u001b[0;32m     38\u001b[0m cv_scores[idx] \u001b[38;5;241m=\u001b[39m metrics\u001b[38;5;241m.\u001b[39mmean_absolute_error(y_test, preds)\n",
      "File \u001b[1;32mC:\\ProgramData\\Anaconda3\\lib\\site-packages\\lightgbm\\sklearn.py:895\u001b[0m, in \u001b[0;36mLGBMRegressor.fit\u001b[1;34m(self, X, y, sample_weight, init_score, eval_set, eval_names, eval_sample_weight, eval_init_score, eval_metric, early_stopping_rounds, verbose, feature_name, categorical_feature, callbacks, init_model)\u001b[0m\n\u001b[0;32m    888\u001b[0m \u001b[38;5;28;01mdef\u001b[39;00m \u001b[38;5;21mfit\u001b[39m(\u001b[38;5;28mself\u001b[39m, X, y,\n\u001b[0;32m    889\u001b[0m         sample_weight\u001b[38;5;241m=\u001b[39m\u001b[38;5;28;01mNone\u001b[39;00m, init_score\u001b[38;5;241m=\u001b[39m\u001b[38;5;28;01mNone\u001b[39;00m,\n\u001b[0;32m    890\u001b[0m         eval_set\u001b[38;5;241m=\u001b[39m\u001b[38;5;28;01mNone\u001b[39;00m, eval_names\u001b[38;5;241m=\u001b[39m\u001b[38;5;28;01mNone\u001b[39;00m, eval_sample_weight\u001b[38;5;241m=\u001b[39m\u001b[38;5;28;01mNone\u001b[39;00m,\n\u001b[0;32m    891\u001b[0m         eval_init_score\u001b[38;5;241m=\u001b[39m\u001b[38;5;28;01mNone\u001b[39;00m, eval_metric\u001b[38;5;241m=\u001b[39m\u001b[38;5;28;01mNone\u001b[39;00m, early_stopping_rounds\u001b[38;5;241m=\u001b[39m\u001b[38;5;28;01mNone\u001b[39;00m,\n\u001b[0;32m    892\u001b[0m         verbose\u001b[38;5;241m=\u001b[39m\u001b[38;5;124m'\u001b[39m\u001b[38;5;124mwarn\u001b[39m\u001b[38;5;124m'\u001b[39m, feature_name\u001b[38;5;241m=\u001b[39m\u001b[38;5;124m'\u001b[39m\u001b[38;5;124mauto\u001b[39m\u001b[38;5;124m'\u001b[39m, categorical_feature\u001b[38;5;241m=\u001b[39m\u001b[38;5;124m'\u001b[39m\u001b[38;5;124mauto\u001b[39m\u001b[38;5;124m'\u001b[39m,\n\u001b[0;32m    893\u001b[0m         callbacks\u001b[38;5;241m=\u001b[39m\u001b[38;5;28;01mNone\u001b[39;00m, init_model\u001b[38;5;241m=\u001b[39m\u001b[38;5;28;01mNone\u001b[39;00m):\n\u001b[0;32m    894\u001b[0m     \u001b[38;5;124;03m\"\"\"Docstring is inherited from the LGBMModel.\"\"\"\u001b[39;00m\n\u001b[1;32m--> 895\u001b[0m     \u001b[38;5;28;43msuper\u001b[39;49m\u001b[43m(\u001b[49m\u001b[43m)\u001b[49m\u001b[38;5;241;43m.\u001b[39;49m\u001b[43mfit\u001b[49m\u001b[43m(\u001b[49m\u001b[43mX\u001b[49m\u001b[43m,\u001b[49m\u001b[43m \u001b[49m\u001b[43my\u001b[49m\u001b[43m,\u001b[49m\u001b[43m \u001b[49m\u001b[43msample_weight\u001b[49m\u001b[38;5;241;43m=\u001b[39;49m\u001b[43msample_weight\u001b[49m\u001b[43m,\u001b[49m\u001b[43m \u001b[49m\u001b[43minit_score\u001b[49m\u001b[38;5;241;43m=\u001b[39;49m\u001b[43minit_score\u001b[49m\u001b[43m,\u001b[49m\n\u001b[0;32m    896\u001b[0m \u001b[43m                \u001b[49m\u001b[43meval_set\u001b[49m\u001b[38;5;241;43m=\u001b[39;49m\u001b[43meval_set\u001b[49m\u001b[43m,\u001b[49m\u001b[43m \u001b[49m\u001b[43meval_names\u001b[49m\u001b[38;5;241;43m=\u001b[39;49m\u001b[43meval_names\u001b[49m\u001b[43m,\u001b[49m\u001b[43m \u001b[49m\u001b[43meval_sample_weight\u001b[49m\u001b[38;5;241;43m=\u001b[39;49m\u001b[43meval_sample_weight\u001b[49m\u001b[43m,\u001b[49m\n\u001b[0;32m    897\u001b[0m \u001b[43m                \u001b[49m\u001b[43meval_init_score\u001b[49m\u001b[38;5;241;43m=\u001b[39;49m\u001b[43meval_init_score\u001b[49m\u001b[43m,\u001b[49m\u001b[43m \u001b[49m\u001b[43meval_metric\u001b[49m\u001b[38;5;241;43m=\u001b[39;49m\u001b[43meval_metric\u001b[49m\u001b[43m,\u001b[49m\n\u001b[0;32m    898\u001b[0m \u001b[43m                \u001b[49m\u001b[43mearly_stopping_rounds\u001b[49m\u001b[38;5;241;43m=\u001b[39;49m\u001b[43mearly_stopping_rounds\u001b[49m\u001b[43m,\u001b[49m\u001b[43m \u001b[49m\u001b[43mverbose\u001b[49m\u001b[38;5;241;43m=\u001b[39;49m\u001b[43mverbose\u001b[49m\u001b[43m,\u001b[49m\u001b[43m \u001b[49m\u001b[43mfeature_name\u001b[49m\u001b[38;5;241;43m=\u001b[39;49m\u001b[43mfeature_name\u001b[49m\u001b[43m,\u001b[49m\n\u001b[0;32m    899\u001b[0m \u001b[43m                \u001b[49m\u001b[43mcategorical_feature\u001b[49m\u001b[38;5;241;43m=\u001b[39;49m\u001b[43mcategorical_feature\u001b[49m\u001b[43m,\u001b[49m\u001b[43m \u001b[49m\u001b[43mcallbacks\u001b[49m\u001b[38;5;241;43m=\u001b[39;49m\u001b[43mcallbacks\u001b[49m\u001b[43m,\u001b[49m\u001b[43m \u001b[49m\u001b[43minit_model\u001b[49m\u001b[38;5;241;43m=\u001b[39;49m\u001b[43minit_model\u001b[49m\u001b[43m)\u001b[49m\n\u001b[0;32m    900\u001b[0m     \u001b[38;5;28;01mreturn\u001b[39;00m \u001b[38;5;28mself\u001b[39m\n",
      "File \u001b[1;32mC:\\ProgramData\\Anaconda3\\lib\\site-packages\\lightgbm\\sklearn.py:748\u001b[0m, in \u001b[0;36mLGBMModel.fit\u001b[1;34m(self, X, y, sample_weight, init_score, group, eval_set, eval_names, eval_sample_weight, eval_class_weight, eval_init_score, eval_group, eval_metric, early_stopping_rounds, verbose, feature_name, categorical_feature, callbacks, init_model)\u001b[0m\n\u001b[0;32m    745\u001b[0m evals_result \u001b[38;5;241m=\u001b[39m {}\n\u001b[0;32m    746\u001b[0m callbacks\u001b[38;5;241m.\u001b[39mappend(record_evaluation(evals_result))\n\u001b[1;32m--> 748\u001b[0m \u001b[38;5;28mself\u001b[39m\u001b[38;5;241m.\u001b[39m_Booster \u001b[38;5;241m=\u001b[39m \u001b[43mtrain\u001b[49m\u001b[43m(\u001b[49m\n\u001b[0;32m    749\u001b[0m \u001b[43m    \u001b[49m\u001b[43mparams\u001b[49m\u001b[38;5;241;43m=\u001b[39;49m\u001b[43mparams\u001b[49m\u001b[43m,\u001b[49m\n\u001b[0;32m    750\u001b[0m \u001b[43m    \u001b[49m\u001b[43mtrain_set\u001b[49m\u001b[38;5;241;43m=\u001b[39;49m\u001b[43mtrain_set\u001b[49m\u001b[43m,\u001b[49m\n\u001b[0;32m    751\u001b[0m \u001b[43m    \u001b[49m\u001b[43mnum_boost_round\u001b[49m\u001b[38;5;241;43m=\u001b[39;49m\u001b[38;5;28;43mself\u001b[39;49m\u001b[38;5;241;43m.\u001b[39;49m\u001b[43mn_estimators\u001b[49m\u001b[43m,\u001b[49m\n\u001b[0;32m    752\u001b[0m \u001b[43m    \u001b[49m\u001b[43mvalid_sets\u001b[49m\u001b[38;5;241;43m=\u001b[39;49m\u001b[43mvalid_sets\u001b[49m\u001b[43m,\u001b[49m\n\u001b[0;32m    753\u001b[0m \u001b[43m    \u001b[49m\u001b[43mvalid_names\u001b[49m\u001b[38;5;241;43m=\u001b[39;49m\u001b[43meval_names\u001b[49m\u001b[43m,\u001b[49m\n\u001b[0;32m    754\u001b[0m \u001b[43m    \u001b[49m\u001b[43mfobj\u001b[49m\u001b[38;5;241;43m=\u001b[39;49m\u001b[38;5;28;43mself\u001b[39;49m\u001b[38;5;241;43m.\u001b[39;49m\u001b[43m_fobj\u001b[49m\u001b[43m,\u001b[49m\n\u001b[0;32m    755\u001b[0m \u001b[43m    \u001b[49m\u001b[43mfeval\u001b[49m\u001b[38;5;241;43m=\u001b[39;49m\u001b[43meval_metrics_callable\u001b[49m\u001b[43m,\u001b[49m\n\u001b[0;32m    756\u001b[0m \u001b[43m    \u001b[49m\u001b[43minit_model\u001b[49m\u001b[38;5;241;43m=\u001b[39;49m\u001b[43minit_model\u001b[49m\u001b[43m,\u001b[49m\n\u001b[0;32m    757\u001b[0m \u001b[43m    \u001b[49m\u001b[43mfeature_name\u001b[49m\u001b[38;5;241;43m=\u001b[39;49m\u001b[43mfeature_name\u001b[49m\u001b[43m,\u001b[49m\n\u001b[0;32m    758\u001b[0m \u001b[43m    \u001b[49m\u001b[43mcallbacks\u001b[49m\u001b[38;5;241;43m=\u001b[39;49m\u001b[43mcallbacks\u001b[49m\n\u001b[0;32m    759\u001b[0m \u001b[43m\u001b[49m\u001b[43m)\u001b[49m\n\u001b[0;32m    761\u001b[0m \u001b[38;5;28;01mif\u001b[39;00m evals_result:\n\u001b[0;32m    762\u001b[0m     \u001b[38;5;28mself\u001b[39m\u001b[38;5;241m.\u001b[39m_evals_result \u001b[38;5;241m=\u001b[39m evals_result\n",
      "File \u001b[1;32mC:\\ProgramData\\Anaconda3\\lib\\site-packages\\lightgbm\\engine.py:292\u001b[0m, in \u001b[0;36mtrain\u001b[1;34m(params, train_set, num_boost_round, valid_sets, valid_names, fobj, feval, init_model, feature_name, categorical_feature, early_stopping_rounds, evals_result, verbose_eval, learning_rates, keep_training_booster, callbacks)\u001b[0m\n\u001b[0;32m    284\u001b[0m \u001b[38;5;28;01mfor\u001b[39;00m cb \u001b[38;5;129;01min\u001b[39;00m callbacks_before_iter:\n\u001b[0;32m    285\u001b[0m     cb(callback\u001b[38;5;241m.\u001b[39mCallbackEnv(model\u001b[38;5;241m=\u001b[39mbooster,\n\u001b[0;32m    286\u001b[0m                             params\u001b[38;5;241m=\u001b[39mparams,\n\u001b[0;32m    287\u001b[0m                             iteration\u001b[38;5;241m=\u001b[39mi,\n\u001b[0;32m    288\u001b[0m                             begin_iteration\u001b[38;5;241m=\u001b[39minit_iteration,\n\u001b[0;32m    289\u001b[0m                             end_iteration\u001b[38;5;241m=\u001b[39minit_iteration \u001b[38;5;241m+\u001b[39m num_boost_round,\n\u001b[0;32m    290\u001b[0m                             evaluation_result_list\u001b[38;5;241m=\u001b[39m\u001b[38;5;28;01mNone\u001b[39;00m))\n\u001b[1;32m--> 292\u001b[0m \u001b[43mbooster\u001b[49m\u001b[38;5;241;43m.\u001b[39;49m\u001b[43mupdate\u001b[49m\u001b[43m(\u001b[49m\u001b[43mfobj\u001b[49m\u001b[38;5;241;43m=\u001b[39;49m\u001b[43mfobj\u001b[49m\u001b[43m)\u001b[49m\n\u001b[0;32m    294\u001b[0m evaluation_result_list \u001b[38;5;241m=\u001b[39m []\n\u001b[0;32m    295\u001b[0m \u001b[38;5;66;03m# check evaluation result.\u001b[39;00m\n",
      "File \u001b[1;32mC:\\ProgramData\\Anaconda3\\lib\\site-packages\\lightgbm\\basic.py:3021\u001b[0m, in \u001b[0;36mBooster.update\u001b[1;34m(self, train_set, fobj)\u001b[0m\n\u001b[0;32m   3019\u001b[0m \u001b[38;5;28;01mif\u001b[39;00m \u001b[38;5;28mself\u001b[39m\u001b[38;5;241m.\u001b[39m__set_objective_to_none:\n\u001b[0;32m   3020\u001b[0m     \u001b[38;5;28;01mraise\u001b[39;00m LightGBMError(\u001b[38;5;124m'\u001b[39m\u001b[38;5;124mCannot update due to null objective function.\u001b[39m\u001b[38;5;124m'\u001b[39m)\n\u001b[1;32m-> 3021\u001b[0m _safe_call(\u001b[43m_LIB\u001b[49m\u001b[38;5;241;43m.\u001b[39;49m\u001b[43mLGBM_BoosterUpdateOneIter\u001b[49m\u001b[43m(\u001b[49m\n\u001b[0;32m   3022\u001b[0m \u001b[43m    \u001b[49m\u001b[38;5;28;43mself\u001b[39;49m\u001b[38;5;241;43m.\u001b[39;49m\u001b[43mhandle\u001b[49m\u001b[43m,\u001b[49m\n\u001b[0;32m   3023\u001b[0m \u001b[43m    \u001b[49m\u001b[43mctypes\u001b[49m\u001b[38;5;241;43m.\u001b[39;49m\u001b[43mbyref\u001b[49m\u001b[43m(\u001b[49m\u001b[43mis_finished\u001b[49m\u001b[43m)\u001b[49m\u001b[43m)\u001b[49m)\n\u001b[0;32m   3024\u001b[0m \u001b[38;5;28mself\u001b[39m\u001b[38;5;241m.\u001b[39m__is_predicted_cur_iter \u001b[38;5;241m=\u001b[39m [\u001b[38;5;28;01mFalse\u001b[39;00m \u001b[38;5;28;01mfor\u001b[39;00m _ \u001b[38;5;129;01min\u001b[39;00m \u001b[38;5;28mrange\u001b[39m(\u001b[38;5;28mself\u001b[39m\u001b[38;5;241m.\u001b[39m__num_dataset)]\n\u001b[0;32m   3025\u001b[0m \u001b[38;5;28;01mreturn\u001b[39;00m is_finished\u001b[38;5;241m.\u001b[39mvalue \u001b[38;5;241m==\u001b[39m \u001b[38;5;241m1\u001b[39m\n",
      "\u001b[1;31mKeyboardInterrupt\u001b[0m: "
     ]
    }
   ],
   "source": [
    "study.optimize(func, n_trials=100)"
   ]
  },
  {
   "cell_type": "code",
   "execution_count": null,
   "id": "5651154b-ccda-4cb2-b908-6852b7b93808",
   "metadata": {},
   "outputs": [],
   "source": []
  }
 ],
 "metadata": {
  "kernelspec": {
   "display_name": "Python 3 (ipykernel)",
   "language": "python",
   "name": "python3"
  },
  "language_info": {
   "codemirror_mode": {
    "name": "ipython",
    "version": 3
   },
   "file_extension": ".py",
   "mimetype": "text/x-python",
   "name": "python",
   "nbconvert_exporter": "python",
   "pygments_lexer": "ipython3",
   "version": "3.8.16"
  }
 },
 "nbformat": 4,
 "nbformat_minor": 5
}
