{
 "cells": [
  {
   "cell_type": "code",
   "execution_count": 1,
   "id": "643a1249-3469-4e71-b6ff-ee3080200a5b",
   "metadata": {},
   "outputs": [],
   "source": [
    "import os\n",
    "os.chdir('C:/Users/raffa/PycharmProjects/PortfolioProject')\n",
    "import xgboost as xgb\n",
    "from xgboost import XGBRegressor\n",
    "from sklearn.linear_model import LinearRegression\n",
    "from sklearn.model_selection import cross_val_score\n",
    "from sklearn.model_selection import train_test_split\n",
    "from sklearn import metrics\n",
    "import sklearn\n",
    "import numpy as np\n",
    "import matplotlib.pyplot as plt\n",
    "import numpy as np\n",
    "from src.data_exploration.data_exploration import *"
   ]
  },
  {
   "cell_type": "code",
   "execution_count": 2,
   "id": "b1b91e83-aed1-41a2-832f-8e32ac47c74f",
   "metadata": {},
   "outputs": [],
   "source": [
    "import lightgbm as lgb\n",
    "from lightgbm import LGBMRegressor"
   ]
  },
  {
   "cell_type": "markdown",
   "id": "33c4fbd8-85b9-4440-8462-ded831c40683",
   "metadata": {},
   "source": [
    "import sys\n",
    "!{sys.executable} -m pip install lightgbm"
   ]
  },
  {
   "cell_type": "code",
   "execution_count": 15,
   "id": "fe05ae61-f805-4f95-bc65-5b441e30a1d1",
   "metadata": {},
   "outputs": [],
   "source": [
    "train_data = np.load( './data/train_test/train_data_lgb.npy')\n",
    "test_data = np.load( './data/train_test/test_data_lgb.npy')\n",
    "train_target = np.load( './data/train_test/train_target_lgb.npy')\n",
    "test_target = np.load( './data/train_test/test_target_lgb.npy')"
   ]
  },
  {
   "cell_type": "code",
   "execution_count": 12,
   "id": "fe680a0c-fe33-4499-b1c3-70c02bec0f09",
   "metadata": {},
   "outputs": [],
   "source": [
    "#train_data = np.delete(train_data,6,1)"
   ]
  },
  {
   "cell_type": "code",
   "execution_count": 62,
   "id": "7b1b4cb7-2239-4d27-bf51-47875924f45b",
   "metadata": {},
   "outputs": [
    {
     "data": {
      "text/plain": [
       "((13540, 90), (1504, 90))"
      ]
     },
     "execution_count": 62,
     "metadata": {},
     "output_type": "execute_result"
    }
   ],
   "source": [
    "train_data.shape, test_data.shape"
   ]
  },
  {
   "cell_type": "code",
   "execution_count": 339,
   "id": "57a909cc-4f41-410f-ba1a-a5e57f90d1df",
   "metadata": {},
   "outputs": [],
   "source": [
    "lin_model = LinearRegression()\n",
    "lin_scores = cross_val_score(lin_model, train_data, train_target, scoring='neg_mean_absolute_percentage_error')"
   ]
  },
  {
   "cell_type": "code",
   "execution_count": 340,
   "id": "af2bf133-9fcd-40c3-ba0d-5ad71dedea3d",
   "metadata": {},
   "outputs": [
    {
     "name": "stdout",
     "output_type": "stream",
     "text": [
      "Mean MAPE: 0.274 (0.008)\n"
     ]
    }
   ],
   "source": [
    "lin_scores = -lin_scores\n",
    "print('Mean MAPE: %.3f (%.3f)' % (lin_scores.mean(), lin_scores.std()) )"
   ]
  },
  {
   "cell_type": "code",
   "execution_count": null,
   "id": "0ca0bd72-e521-4de8-8a04-1f6966d9a8fc",
   "metadata": {},
   "outputs": [],
   "source": [
    "scores = cross_val_score(model, train_data, train_target, \n",
    "                         scoring='neg_mean_absolute_percentage_error', \n",
    "                         cv=8,  fit_params={'callbacks': callbacks}, verbose=1)"
   ]
  },
  {
   "cell_type": "code",
   "execution_count": 388,
   "id": "44b674d3-d58d-411a-b997-146b33b83735",
   "metadata": {},
   "outputs": [
    {
     "name": "stdout",
     "output_type": "stream",
     "text": [
      "Mean MAPE: 0.149 (0.007)\n"
     ]
    }
   ],
   "source": [
    "scores = -scores\n",
    "print('Mean MAPE: %.3f (%.3f)' % (scores.mean(), scores.std()) )"
   ]
  },
  {
   "cell_type": "code",
   "execution_count": 21,
   "id": "b35aff6b-ef22-403f-80db-d76dd74062a4",
   "metadata": {},
   "outputs": [
    {
     "data": {
      "text/plain": [
       "((12050, 90), (12050,), (1490, 90), (1490,))"
      ]
     },
     "execution_count": 21,
     "metadata": {},
     "output_type": "execute_result"
    }
   ],
   "source": [
    "X_train.shape, y_train.shape, X_val.shape, y_val.shape"
   ]
  },
  {
   "cell_type": "code",
   "execution_count": 16,
   "id": "50849b76-6917-4d65-a296-71ae248107f8",
   "metadata": {},
   "outputs": [],
   "source": [
    "X_train, X_val, y_train, y_val = train_test_split(train_data, train_target, test_size=0.11, random_state=42)\n",
    "eval_set = [(X_train, y_train), (X_val, y_val)]"
   ]
  },
  {
   "cell_type": "code",
   "execution_count": 36,
   "id": "245313ba-8d34-450d-8d76-20f7203a69af",
   "metadata": {},
   "outputs": [],
   "source": [
    "model = LGBMRegressor(boosting_type='gbdt',\n",
    "                      colsample_bytree = 0.9199999999999999,\n",
    "                      reg_alpha = 93,\n",
    "                      reg_lambda = 37,\n",
    "                      learning_rate = 0.0837329237459536,\n",
    "                      min_child_samples = 7,\n",
    "                      min_split_gain = 6.0,\n",
    "                      n_estimators = 10000,\n",
    "                      num_leaves = 1740,\n",
    "                      random_state = 42,\n",
    "                      subsample = 0.6100000000000001,\n",
    "                      subsample_freq = 1\n",
    "                     )"
   ]
  },
  {
   "cell_type": "code",
   "execution_count": 12,
   "id": "f173c80c-9aed-4583-937f-8e0edb587ca2",
   "metadata": {},
   "outputs": [],
   "source": [
    "model = LGBMRegressor(boosting_type='gbdt',\n",
    "                      colsample_bytree = 0.99,\n",
    "                      reg_alpha = 96,\n",
    "                      reg_lambda = 18,\n",
    "                      learning_rate = 0.004274977431336523,\n",
    "                      min_child_samples = 5,\n",
    "                      min_split_gain = 3.0,\n",
    "                      n_estimators = 10000,\n",
    "                      num_leaves = 1740,\n",
    "                      random_state = 42,\n",
    "                      subsample = 0.62,\n",
    "                      subsample_freq = 1\n",
    "                     )"
   ]
  },
  {
   "cell_type": "code",
   "execution_count": 37,
   "id": "e2982922-6abe-4054-92bc-ca5ffdae3fba",
   "metadata": {},
   "outputs": [],
   "source": [
    "eval_result = {}\n",
    "callbacks=[lgb.log_evaluation(period=-1,show_stdv=False), lgb.record_evaluation(eval_result), lgb.early_stopping(100, verbose=True)] "
   ]
  },
  {
   "cell_type": "code",
   "execution_count": 38,
   "id": "afab0e05-ee4a-490c-b219-e2e3ecd3f697",
   "metadata": {},
   "outputs": [
    {
     "name": "stdout",
     "output_type": "stream",
     "text": [
      "Training until validation scores don't improve for 100 rounds\n",
      "Early stopping, best iteration is:\n",
      "[225]\ttraining's rmse: 102637\ttraining's l1: 31974.3\ttraining's l2: 1.05344e+10\tvalid_1's rmse: 128970\tvalid_1's l1: 57844.5\tvalid_1's l2: 1.66333e+10\n"
     ]
    },
    {
     "data": {
      "text/html": [
       "<style>#sk-container-id-3 {color: black;background-color: white;}#sk-container-id-3 pre{padding: 0;}#sk-container-id-3 div.sk-toggleable {background-color: white;}#sk-container-id-3 label.sk-toggleable__label {cursor: pointer;display: block;width: 100%;margin-bottom: 0;padding: 0.3em;box-sizing: border-box;text-align: center;}#sk-container-id-3 label.sk-toggleable__label-arrow:before {content: \"▸\";float: left;margin-right: 0.25em;color: #696969;}#sk-container-id-3 label.sk-toggleable__label-arrow:hover:before {color: black;}#sk-container-id-3 div.sk-estimator:hover label.sk-toggleable__label-arrow:before {color: black;}#sk-container-id-3 div.sk-toggleable__content {max-height: 0;max-width: 0;overflow: hidden;text-align: left;background-color: #f0f8ff;}#sk-container-id-3 div.sk-toggleable__content pre {margin: 0.2em;color: black;border-radius: 0.25em;background-color: #f0f8ff;}#sk-container-id-3 input.sk-toggleable__control:checked~div.sk-toggleable__content {max-height: 200px;max-width: 100%;overflow: auto;}#sk-container-id-3 input.sk-toggleable__control:checked~label.sk-toggleable__label-arrow:before {content: \"▾\";}#sk-container-id-3 div.sk-estimator input.sk-toggleable__control:checked~label.sk-toggleable__label {background-color: #d4ebff;}#sk-container-id-3 div.sk-label input.sk-toggleable__control:checked~label.sk-toggleable__label {background-color: #d4ebff;}#sk-container-id-3 input.sk-hidden--visually {border: 0;clip: rect(1px 1px 1px 1px);clip: rect(1px, 1px, 1px, 1px);height: 1px;margin: -1px;overflow: hidden;padding: 0;position: absolute;width: 1px;}#sk-container-id-3 div.sk-estimator {font-family: monospace;background-color: #f0f8ff;border: 1px dotted black;border-radius: 0.25em;box-sizing: border-box;margin-bottom: 0.5em;}#sk-container-id-3 div.sk-estimator:hover {background-color: #d4ebff;}#sk-container-id-3 div.sk-parallel-item::after {content: \"\";width: 100%;border-bottom: 1px solid gray;flex-grow: 1;}#sk-container-id-3 div.sk-label:hover label.sk-toggleable__label {background-color: #d4ebff;}#sk-container-id-3 div.sk-serial::before {content: \"\";position: absolute;border-left: 1px solid gray;box-sizing: border-box;top: 0;bottom: 0;left: 50%;z-index: 0;}#sk-container-id-3 div.sk-serial {display: flex;flex-direction: column;align-items: center;background-color: white;padding-right: 0.2em;padding-left: 0.2em;position: relative;}#sk-container-id-3 div.sk-item {position: relative;z-index: 1;}#sk-container-id-3 div.sk-parallel {display: flex;align-items: stretch;justify-content: center;background-color: white;position: relative;}#sk-container-id-3 div.sk-item::before, #sk-container-id-3 div.sk-parallel-item::before {content: \"\";position: absolute;border-left: 1px solid gray;box-sizing: border-box;top: 0;bottom: 0;left: 50%;z-index: -1;}#sk-container-id-3 div.sk-parallel-item {display: flex;flex-direction: column;z-index: 1;position: relative;background-color: white;}#sk-container-id-3 div.sk-parallel-item:first-child::after {align-self: flex-end;width: 50%;}#sk-container-id-3 div.sk-parallel-item:last-child::after {align-self: flex-start;width: 50%;}#sk-container-id-3 div.sk-parallel-item:only-child::after {width: 0;}#sk-container-id-3 div.sk-dashed-wrapped {border: 1px dashed gray;margin: 0 0.4em 0.5em 0.4em;box-sizing: border-box;padding-bottom: 0.4em;background-color: white;}#sk-container-id-3 div.sk-label label {font-family: monospace;font-weight: bold;display: inline-block;line-height: 1.2em;}#sk-container-id-3 div.sk-label-container {text-align: center;}#sk-container-id-3 div.sk-container {/* jupyter's `normalize.less` sets `[hidden] { display: none; }` but bootstrap.min.css set `[hidden] { display: none !important; }` so we also need the `!important` here to be able to override the default hidden behavior on the sphinx rendered scikit-learn.org. See: https://github.com/scikit-learn/scikit-learn/issues/21755 */display: inline-block !important;position: relative;}#sk-container-id-3 div.sk-text-repr-fallback {display: none;}</style><div id=\"sk-container-id-3\" class=\"sk-top-container\"><div class=\"sk-text-repr-fallback\"><pre>LGBMRegressor(colsample_bytree=0.9199999999999999,\n",
       "              learning_rate=0.0837329237459536, min_child_samples=7,\n",
       "              min_split_gain=6.0, n_estimators=10000, num_leaves=1740,\n",
       "              random_state=42, reg_alpha=93, reg_lambda=37,\n",
       "              subsample=0.6100000000000001, subsample_freq=1)</pre><b>In a Jupyter environment, please rerun this cell to show the HTML representation or trust the notebook. <br />On GitHub, the HTML representation is unable to render, please try loading this page with nbviewer.org.</b></div><div class=\"sk-container\" hidden><div class=\"sk-item\"><div class=\"sk-estimator sk-toggleable\"><input class=\"sk-toggleable__control sk-hidden--visually\" id=\"sk-estimator-id-3\" type=\"checkbox\" checked><label for=\"sk-estimator-id-3\" class=\"sk-toggleable__label sk-toggleable__label-arrow\">LGBMRegressor</label><div class=\"sk-toggleable__content\"><pre>LGBMRegressor(colsample_bytree=0.9199999999999999,\n",
       "              learning_rate=0.0837329237459536, min_child_samples=7,\n",
       "              min_split_gain=6.0, n_estimators=10000, num_leaves=1740,\n",
       "              random_state=42, reg_alpha=93, reg_lambda=37,\n",
       "              subsample=0.6100000000000001, subsample_freq=1)</pre></div></div></div></div></div>"
      ],
      "text/plain": [
       "LGBMRegressor(colsample_bytree=0.9199999999999999,\n",
       "              learning_rate=0.0837329237459536, min_child_samples=7,\n",
       "              min_split_gain=6.0, n_estimators=10000, num_leaves=1740,\n",
       "              random_state=42, reg_alpha=93, reg_lambda=37,\n",
       "              subsample=0.6100000000000001, subsample_freq=1)"
      ]
     },
     "execution_count": 38,
     "metadata": {},
     "output_type": "execute_result"
    }
   ],
   "source": [
    "model.fit(X_train, y_train, eval_set=eval_set, eval_metric=['rmse','mae'], callbacks=callbacks)"
   ]
  },
  {
   "cell_type": "code",
   "execution_count": 39,
   "id": "648f9fa8-df6f-46b9-ad9c-ec657b077b52",
   "metadata": {},
   "outputs": [
    {
     "name": "stdout",
     "output_type": "stream",
     "text": [
      "0.13826115933367364 57844.49243141465 0.9045385348665909\n"
     ]
    }
   ],
   "source": [
    "val_pred = model.predict(X_val)\n",
    "print(metrics.mean_absolute_percentage_error(y_val,val_pred),\n",
    "      metrics.mean_absolute_error(y_val,val_pred),\n",
    "      metrics.r2_score(y_val,val_pred))"
   ]
  },
  {
   "cell_type": "code",
   "execution_count": 26,
   "id": "d6408638-fda5-4856-b823-8b3258d4bdc2",
   "metadata": {},
   "outputs": [
    {
     "name": "stdout",
     "output_type": "stream",
     "text": [
      "0.13765657823288108 57273.82292734976 0.9032376462160792\n"
     ]
    }
   ],
   "source": [
    "val_pred = model.predict(X_val)\n",
    "print(metrics.mean_absolute_percentage_error(y_val,val_pred),\n",
    "      metrics.mean_absolute_error(y_val,val_pred),\n",
    "      metrics.r2_score(y_val,val_pred))"
   ]
  },
  {
   "cell_type": "code",
   "execution_count": 82,
   "id": "5e6c7684-9d25-4747-8bb8-9ca1ba0252b1",
   "metadata": {},
   "outputs": [
    {
     "data": {
      "text/plain": [
       "odict_keys(['rmse', 'l1', 'l2'])"
      ]
     },
     "execution_count": 82,
     "metadata": {},
     "output_type": "execute_result"
    }
   ],
   "source": [
    "eval_result['training'].keys()"
   ]
  },
  {
   "cell_type": "code",
   "execution_count": 27,
   "id": "5c2e0b27-e19d-4beb-9629-74950c4ad4c1",
   "metadata": {},
   "outputs": [
    {
     "data": {
      "image/png": "[encoded data removed]",
      "text/plain": [
       "<Figure size 640x480 with 1 Axes>"
      ]
     },
     "metadata": {},
     "output_type": "display_data"
    }
   ],
   "source": [
    "epochs = len(eval_result['training']['l1'])\n",
    "x_axis = range(0, epochs)\n",
    "# plot log loss\n",
    "fig, ax = plt.subplots()\n",
    "ax.plot(x_axis, eval_result['training']['l1'], label='Train')\n",
    "ax.plot(x_axis, eval_result['valid_1']['l1'], label='Test')\n",
    "ax.legend()\n",
    "plt.ylabel('MAE')\n",
    "plt.title('LGBoost MAE')\n",
    "plt.show()"
   ]
  },
  {
   "cell_type": "markdown",
   "id": "c1656845-a6a7-432b-b688-c7b785e10705",
   "metadata": {},
   "source": [
    "# Model tuning with optuna"
   ]
  },
  {
   "cell_type": "code",
   "execution_count": 3,
   "id": "7bb13890-e8bc-40d1-9903-bd9d2532df77",
   "metadata": {},
   "outputs": [],
   "source": [
    "import optuna \n",
    "from sklearn.metrics import r2_score\n",
    "from sklearn.model_selection import StratifiedKFold, KFold\n",
    "from optuna.integration import LightGBMPruningCallback"
   ]
  },
  {
   "cell_type": "code",
   "execution_count": 4,
   "id": "39091b77-750e-4a1a-87a5-ea81627ffe22",
   "metadata": {},
   "outputs": [],
   "source": [
    "train = read_sqlite_table('train', './data/train_test/train_data_lgb.db')\n",
    "test = read_sqlite_table('test', './data/train_test/test_data_lgb.db')\n",
    "train_target = train['price']\n",
    "train_data = train.drop('price', axis=1)\n",
    "test_target = test['price']\n",
    "test_data = test.drop('price', axis=1)"
   ]
  },
  {
   "cell_type": "code",
   "execution_count": 5,
   "id": "53968149-f111-4286-8c25-c6c7d5e25d3f",
   "metadata": {},
   "outputs": [],
   "source": [
    "def objective(trial, X, y):\n",
    "    param_grid = {\n",
    "        \"random_state\": trial.suggest_categorical(\"random_state\", [42]),\n",
    "        \"n_estimators\": trial.suggest_categorical(\"n_estimators\", [10000]),\n",
    "        \"learning_rate\": trial.suggest_float(\"learning_rate\", 0.001, 0.1),\n",
    "        \"num_leaves\": trial.suggest_int(\"num_leaves\", 20, 3000, step=20),\n",
    "        \"min_child_samples\": trial.suggest_int(\"min_data_in_leaf\", 0, 20, step=1),\n",
    "        \"reg_alpha\": trial.suggest_int(\"lambda_l1\", 0, 100, step=1),\n",
    "        \"reg_lambda\": trial.suggest_int(\"lambda_l2\", 0, 100, step=1),\n",
    "        \"min_split_gain\": trial.suggest_float(\"min_gain_to_split\", 0, 15, step=1),\n",
    "        \"subsample\": trial.suggest_float(\n",
    "            \"subsample\", 0.2, 0.99, step=0.01\n",
    "        ),\n",
    "        \"subsample_freq\": trial.suggest_categorical(\"subsample_freq\", [1]),\n",
    "        \"colsample_bytree\": trial.suggest_float(\n",
    "            \"feature_fraction\", 0.2, 0.99, step=0.01\n",
    "        ),\n",
    "    }\n",
    "\n",
    "    cv = KFold(n_splits=8, shuffle=True, random_state=42)\n",
    "\n",
    "    cv_scores = np.empty(8)\n",
    "    for idx, (train_idx, test_idx) in enumerate(cv.split(X, y)):\n",
    "        X_train, X_test = X.iloc[train_idx], X.iloc[test_idx]\n",
    "        y_train, y_test = y[train_idx], y[test_idx]\n",
    "\n",
    "        model = LGBMRegressor(objective=\"rmse\", **param_grid)\n",
    "        model.fit(\n",
    "            X_train,\n",
    "            y_train,\n",
    "            eval_set=[(X_test, y_test)],\n",
    "            eval_metric=\"rmse\",\n",
    "            callbacks=[\n",
    "                lgb.early_stopping(100, verbose=False)\n",
    "            ],  # Add a pruning callback\n",
    "        )\n",
    "        preds = model.predict(X_test)\n",
    "        cv_scores[idx] = metrics.mean_absolute_error(y_test, preds)\n",
    "    \n",
    "    return np.mean(cv_scores)"
   ]
  },
  {
   "cell_type": "code",
   "execution_count": null,
   "id": "f0d8b23b-99fd-4ccd-ba70-3f5b4c1aa688",
   "metadata": {},
   "outputs": [],
   "source": [
    "study = optuna.create_study(direction=\"minimize\", study_name=\"LGBM Regressor\")"
   ]
  },
  {
   "cell_type": "code",
   "execution_count": 9,
   "id": "db428462-6c58-47bd-b7d9-4a9b92676c60",
   "metadata": {},
   "outputs": [],
   "source": [
    "func = lambda trial: objective(trial, train_data, train_target)"
   ]
  },
  {
   "cell_type": "code",
   "execution_count": 6,
   "id": "a077a41d-4a35-4a7f-932c-cfb68644ccc0",
   "metadata": {},
   "outputs": [],
   "source": [
    "study = optuna.load_study(study_name=\"LGBM Regressor 1\", storage=\"sqlite:///model/LGBMRegressor_study.db\")"
   ]
  },
  {
   "cell_type": "code",
   "execution_count": 479,
   "id": "677d9151-cac7-4b87-9022-093430adafa6",
   "metadata": {},
   "outputs": [
    {
     "name": "stderr",
     "output_type": "stream",
     "text": [
      "[I 2023-06-24 22:23:28,995] A new study created in RDB with name: LGBM Regressor 1\n"
     ]
    }
   ],
   "source": [
    "save_study = optuna.create_study(study_name=\"LGBM Regressor 1\", storage=\"sqlite:///model/LGBMRegressor_study.db\")\n",
    "save_study.add_trials(study.trials)"
   ]
  },
  {
   "cell_type": "code",
   "execution_count": 11,
   "id": "205cc8c8-57fa-40b0-a01f-fea17a7bb96a",
   "metadata": {},
   "outputs": [
    {
     "name": "stdout",
     "output_type": "stream",
     "text": [
      "\tBest value (rmse): 66732.93505\n",
      "\tBest params:\n",
      "\t\tfeature_fraction: 0.99\n",
      "\t\tlambda_l1: 96\n",
      "\t\tlambda_l2: 18\n",
      "\t\tlearning_rate: 0.004274977431336523\n",
      "\t\tmin_data_in_leaf: 5\n",
      "\t\tmin_gain_to_split: 3.0\n",
      "\t\tn_estimators: 10000\n",
      "\t\tnum_leaves: 1740\n",
      "\t\trandom_state: 42\n",
      "\t\tsubsample: 0.62\n",
      "\t\tsubsample_freq: 1\n"
     ]
    }
   ],
   "source": [
    "print(f\"\\tBest value (rmse): {study.best_value:.5f}\")\n",
    "print(f\"\\tBest params:\")\n",
    "\n",
    "for key, value in study.best_params.items():\n",
    "    print(f\"\\t\\t{key}: {value}\")"
   ]
  },
  {
   "cell_type": "code",
   "execution_count": null,
   "id": "e6c655d9-507e-4e90-b37f-e5171aa2d9dd",
   "metadata": {},
   "outputs": [],
   "source": [
    "study.optimize(func, n_trials=500)"
   ]
  },
  {
   "cell_type": "code",
   "execution_count": 42,
   "id": "70945ba8-fa5b-4e1f-855b-c3cba201cc39",
   "metadata": {},
   "outputs": [],
   "source": [
    "eval_result = {}\n",
    "callbacks=[lgb.log_evaluation(period=-1,show_stdv=False), lgb.record_evaluation(eval_result)] "
   ]
  },
  {
   "cell_type": "code",
   "execution_count": 43,
   "id": "5651154b-ccda-4cb2-b908-6852b7b93808",
   "metadata": {},
   "outputs": [],
   "source": [
    "model = LGBMRegressor(boosting_type='gbdt',\n",
    "                      colsample_bytree = 0.9199999999999999,\n",
    "                      reg_alpha = 93,\n",
    "                      reg_lambda = 37,\n",
    "                      learning_rate = 0.0837329237459536,\n",
    "                      min_child_samples = 7,\n",
    "                      min_split_gain = 6.0,\n",
    "                      n_estimators = 225,\n",
    "                      num_leaves = 1740,\n",
    "                      random_state = 42,\n",
    "                      subsample = 0.6100000000000001,\n",
    "                      subsample_freq = 1\n",
    "                     )"
   ]
  },
  {
   "cell_type": "code",
   "execution_count": 44,
   "id": "d2a7a1d0-19a8-462b-be7a-0e7dbfdd66f3",
   "metadata": {},
   "outputs": [
    {
     "data": {
      "text/html": [
       "<style>#sk-container-id-4 {color: black;background-color: white;}#sk-container-id-4 pre{padding: 0;}#sk-container-id-4 div.sk-toggleable {background-color: white;}#sk-container-id-4 label.sk-toggleable__label {cursor: pointer;display: block;width: 100%;margin-bottom: 0;padding: 0.3em;box-sizing: border-box;text-align: center;}#sk-container-id-4 label.sk-toggleable__label-arrow:before {content: \"▸\";float: left;margin-right: 0.25em;color: #696969;}#sk-container-id-4 label.sk-toggleable__label-arrow:hover:before {color: black;}#sk-container-id-4 div.sk-estimator:hover label.sk-toggleable__label-arrow:before {color: black;}#sk-container-id-4 div.sk-toggleable__content {max-height: 0;max-width: 0;overflow: hidden;text-align: left;background-color: #f0f8ff;}#sk-container-id-4 div.sk-toggleable__content pre {margin: 0.2em;color: black;border-radius: 0.25em;background-color: #f0f8ff;}#sk-container-id-4 input.sk-toggleable__control:checked~div.sk-toggleable__content {max-height: 200px;max-width: 100%;overflow: auto;}#sk-container-id-4 input.sk-toggleable__control:checked~label.sk-toggleable__label-arrow:before {content: \"▾\";}#sk-container-id-4 div.sk-estimator input.sk-toggleable__control:checked~label.sk-toggleable__label {background-color: #d4ebff;}#sk-container-id-4 div.sk-label input.sk-toggleable__control:checked~label.sk-toggleable__label {background-color: #d4ebff;}#sk-container-id-4 input.sk-hidden--visually {border: 0;clip: rect(1px 1px 1px 1px);clip: rect(1px, 1px, 1px, 1px);height: 1px;margin: -1px;overflow: hidden;padding: 0;position: absolute;width: 1px;}#sk-container-id-4 div.sk-estimator {font-family: monospace;background-color: #f0f8ff;border: 1px dotted black;border-radius: 0.25em;box-sizing: border-box;margin-bottom: 0.5em;}#sk-container-id-4 div.sk-estimator:hover {background-color: #d4ebff;}#sk-container-id-4 div.sk-parallel-item::after {content: \"\";width: 100%;border-bottom: 1px solid gray;flex-grow: 1;}#sk-container-id-4 div.sk-label:hover label.sk-toggleable__label {background-color: #d4ebff;}#sk-container-id-4 div.sk-serial::before {content: \"\";position: absolute;border-left: 1px solid gray;box-sizing: border-box;top: 0;bottom: 0;left: 50%;z-index: 0;}#sk-container-id-4 div.sk-serial {display: flex;flex-direction: column;align-items: center;background-color: white;padding-right: 0.2em;padding-left: 0.2em;position: relative;}#sk-container-id-4 div.sk-item {position: relative;z-index: 1;}#sk-container-id-4 div.sk-parallel {display: flex;align-items: stretch;justify-content: center;background-color: white;position: relative;}#sk-container-id-4 div.sk-item::before, #sk-container-id-4 div.sk-parallel-item::before {content: \"\";position: absolute;border-left: 1px solid gray;box-sizing: border-box;top: 0;bottom: 0;left: 50%;z-index: -1;}#sk-container-id-4 div.sk-parallel-item {display: flex;flex-direction: column;z-index: 1;position: relative;background-color: white;}#sk-container-id-4 div.sk-parallel-item:first-child::after {align-self: flex-end;width: 50%;}#sk-container-id-4 div.sk-parallel-item:last-child::after {align-self: flex-start;width: 50%;}#sk-container-id-4 div.sk-parallel-item:only-child::after {width: 0;}#sk-container-id-4 div.sk-dashed-wrapped {border: 1px dashed gray;margin: 0 0.4em 0.5em 0.4em;box-sizing: border-box;padding-bottom: 0.4em;background-color: white;}#sk-container-id-4 div.sk-label label {font-family: monospace;font-weight: bold;display: inline-block;line-height: 1.2em;}#sk-container-id-4 div.sk-label-container {text-align: center;}#sk-container-id-4 div.sk-container {/* jupyter's `normalize.less` sets `[hidden] { display: none; }` but bootstrap.min.css set `[hidden] { display: none !important; }` so we also need the `!important` here to be able to override the default hidden behavior on the sphinx rendered scikit-learn.org. See: https://github.com/scikit-learn/scikit-learn/issues/21755 */display: inline-block !important;position: relative;}#sk-container-id-4 div.sk-text-repr-fallback {display: none;}</style><div id=\"sk-container-id-4\" class=\"sk-top-container\"><div class=\"sk-text-repr-fallback\"><pre>LGBMRegressor(colsample_bytree=0.9199999999999999,\n",
       "              learning_rate=0.0837329237459536, min_child_samples=7,\n",
       "              min_split_gain=6.0, n_estimators=225, num_leaves=1740,\n",
       "              random_state=42, reg_alpha=93, reg_lambda=37,\n",
       "              subsample=0.6100000000000001, subsample_freq=1)</pre><b>In a Jupyter environment, please rerun this cell to show the HTML representation or trust the notebook. <br />On GitHub, the HTML representation is unable to render, please try loading this page with nbviewer.org.</b></div><div class=\"sk-container\" hidden><div class=\"sk-item\"><div class=\"sk-estimator sk-toggleable\"><input class=\"sk-toggleable__control sk-hidden--visually\" id=\"sk-estimator-id-4\" type=\"checkbox\" checked><label for=\"sk-estimator-id-4\" class=\"sk-toggleable__label sk-toggleable__label-arrow\">LGBMRegressor</label><div class=\"sk-toggleable__content\"><pre>LGBMRegressor(colsample_bytree=0.9199999999999999,\n",
       "              learning_rate=0.0837329237459536, min_child_samples=7,\n",
       "              min_split_gain=6.0, n_estimators=225, num_leaves=1740,\n",
       "              random_state=42, reg_alpha=93, reg_lambda=37,\n",
       "              subsample=0.6100000000000001, subsample_freq=1)</pre></div></div></div></div></div>"
      ],
      "text/plain": [
       "LGBMRegressor(colsample_bytree=0.9199999999999999,\n",
       "              learning_rate=0.0837329237459536, min_child_samples=7,\n",
       "              min_split_gain=6.0, n_estimators=225, num_leaves=1740,\n",
       "              random_state=42, reg_alpha=93, reg_lambda=37,\n",
       "              subsample=0.6100000000000001, subsample_freq=1)"
      ]
     },
     "execution_count": 44,
     "metadata": {},
     "output_type": "execute_result"
    }
   ],
   "source": [
    "model.fit(train_data, train_target, callbacks=callbacks)"
   ]
  },
  {
   "cell_type": "code",
   "execution_count": 45,
   "id": "90448c96-4320-4576-8992-d4a6b87a3820",
   "metadata": {},
   "outputs": [
    {
     "data": {
      "text/plain": [
       "<lightgbm.basic.Booster at 0x21c8cdf47f0>"
      ]
     },
     "execution_count": 45,
     "metadata": {},
     "output_type": "execute_result"
    }
   ],
   "source": [
    "model.booster_.save_model('./model/lgb_model_2.json')"
   ]
  },
  {
   "cell_type": "code",
   "execution_count": null,
   "id": "9715976f-1cf0-473a-859f-d94fa42b16cb",
   "metadata": {},
   "outputs": [],
   "source": []
  }
 ],
 "metadata": {
  "kernelspec": {
   "display_name": "Python 3 (ipykernel)",
   "language": "python",
   "name": "python3"
  },
  "language_info": {
   "codemirror_mode": {
    "name": "ipython",
    "version": 3
   },
   "file_extension": ".py",
   "mimetype": "text/x-python",
   "name": "python",
   "nbconvert_exporter": "python",
   "pygments_lexer": "ipython3",
   "version": "3.8.16"
  }
 },
 "nbformat": 4,
 "nbformat_minor": 5
}
