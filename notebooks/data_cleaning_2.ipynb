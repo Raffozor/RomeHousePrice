{
 "cells": [
  {
   "cell_type": "code",
   "execution_count": 1,
   "id": "c55e35da-2ccf-490c-bece-597114c8463e",
   "metadata": {},
   "outputs": [],
   "source": [
    "import os\n",
    "os.chdir('..')"
   ]
  },
  {
   "cell_type": "code",
   "execution_count": 2,
   "id": "23ff03ab-8310-4852-b4d9-e65717314e6a",
   "metadata": {},
   "outputs": [],
   "source": [
    "import pandas as pd\n",
    "from sqlalchemy import create_engine\n",
    "import sqlite3\n",
    "import numpy as np\n",
    "import matplotlib.pyplot as plt\n",
    "\n",
    "from src.data_exploration.data_exploration import *"
   ]
  },
  {
   "cell_type": "code",
   "execution_count": 3,
   "id": "2c8b1875-6946-43dd-8dd3-d011458438fe",
   "metadata": {},
   "outputs": [],
   "source": [
    "df = read_sqlite_table('housedata', './data/processed/rome_house_preprocessing.db')"
   ]
  },
  {
   "cell_type": "code",
   "execution_count": 4,
   "id": "f52f2c56-798b-4ddc-9ab5-32b095129e2b",
   "metadata": {},
   "outputs": [],
   "source": [
    "df = df.drop('macrozoneId', axis=1)"
   ]
  },
  {
   "cell_type": "code",
   "execution_count": 5,
   "id": "e2f4e273-4fcb-43de-b06a-380b9dca5cc5",
   "metadata": {},
   "outputs": [
    {
     "data": {
      "text/plain": [
       "Index(['latitude', 'longitude', 'price', 'buildingYear', 'surface', 'rooms',\n",
       "       'bathrooms', 'floor', 'garage', 'isNew', 'luxury', 'typology',\n",
       "       'category', 'condition', 'features'],\n",
       "      dtype='object')"
      ]
     },
     "execution_count": 5,
     "metadata": {},
     "output_type": "execute_result"
    }
   ],
   "source": [
    "df.columns"
   ]
  },
  {
   "cell_type": "code",
   "execution_count": 6,
   "id": "2f29c057-e633-4069-8765-5a332ec6d9f7",
   "metadata": {},
   "outputs": [],
   "source": [
    "df1 = df.copy()\n",
    "df1 = df1[df1['latitude']!='None']\n",
    "df1['latitude'] = df1['latitude'].astype('float32')\n",
    "df1['longitude'] = df1['longitude'].astype('float32')"
   ]
  },
  {
   "cell_type": "code",
   "execution_count": 7,
   "id": "a5cd6870-5d44-4d16-873a-b027775f0101",
   "metadata": {},
   "outputs": [
    {
     "data": {
      "text/plain": [
       "(15702, 15)"
      ]
     },
     "execution_count": 7,
     "metadata": {},
     "output_type": "execute_result"
    }
   ],
   "source": [
    "df1.shape"
   ]
  },
  {
   "cell_type": "code",
   "execution_count": 8,
   "id": "81c3a0c2-0744-47cc-9098-98d2dddc7f1d",
   "metadata": {},
   "outputs": [
    {
     "name": "stderr",
     "output_type": "stream",
     "text": [
      "C:\\Users\\raffa\\AppData\\Local\\Temp\\ipykernel_15848\\1001120157.py:2: FutureWarning: The default value of regex will change from True to False in a future version. In addition, single character regular expressions will *not* be treated as literal strings when regex=True.\n",
      "  df2['price'] = df2['price'].str.replace('€','').str.replace('.','').str.replace(' ','')\n"
     ]
    }
   ],
   "source": [
    "df2 = df1.copy()\n",
    "df2['price'] = df2['price'].str.replace('€','').str.replace('.','').str.replace(' ','')\n",
    "df2['price'] = df2['price'].astype(float)"
   ]
  },
  {
   "cell_type": "code",
   "execution_count": 9,
   "id": "12e9ddc5-702a-410f-986d-75f40e7e58fb",
   "metadata": {},
   "outputs": [],
   "source": [
    "df3 = df2.copy()\n",
    "df3['buildingYear'] = df3['buildingYear'].replace('None', np.nan).astype(float)"
   ]
  },
  {
   "cell_type": "code",
   "execution_count": 10,
   "id": "f2fe00e0-cb27-4dfc-8431-b75d3cecbb22",
   "metadata": {},
   "outputs": [
    {
     "name": "stderr",
     "output_type": "stream",
     "text": [
      "C:\\Users\\raffa\\AppData\\Local\\Temp\\ipykernel_15848\\587257418.py:4: FutureWarning: The default value of regex will change from True to False in a future version. In addition, single character regular expressions will *not* be treated as literal strings when regex=True.\n",
      "  df4['surface'] = df4['surface'].str.replace('.','')\n"
     ]
    }
   ],
   "source": [
    "df4 = df3.copy()\n",
    "df4[['surface','m2']] = df4['surface'].str.split(pat=\" \", n= 1, expand=True)\n",
    "df4 = df4.drop(['m2'], axis=1)\n",
    "df4['surface'] = df4['surface'].str.replace('.','')\n",
    "df4['surface'] = df4['surface'].astype(int)"
   ]
  },
  {
   "cell_type": "code",
   "execution_count": 17,
   "id": "966162b5-798b-4d19-9f30-778d0119522f",
   "metadata": {},
   "outputs": [
    {
     "data": {
      "text/plain": [
       "3     5550\n",
       "2     3817\n",
       "4     2937\n",
       "5+    1487\n",
       "5     1290\n",
       "1      621\n",
       "Name: rooms, dtype: int64"
      ]
     },
     "execution_count": 17,
     "metadata": {},
     "output_type": "execute_result"
    }
   ],
   "source": [
    "df4['rooms'].value_counts()"
   ]
  },
  {
   "cell_type": "code",
   "execution_count": 12,
   "id": "1a290af2-a320-49dd-95a9-46f0fef5d0db",
   "metadata": {},
   "outputs": [
    {
     "data": {
      "text/plain": [
       "1       8412\n",
       "2       5455\n",
       "3       1138\n",
       "3+       694\n",
       "None       3\n",
       "Name: bathrooms, dtype: int64"
      ]
     },
     "execution_count": 12,
     "metadata": {},
     "output_type": "execute_result"
    }
   ],
   "source": [
    "df4['bathrooms'].value_counts()"
   ]
  },
  {
   "cell_type": "code",
   "execution_count": 20,
   "id": "658f41b1-092b-4729-a3d6-eabee1dcd1d2",
   "metadata": {},
   "outputs": [],
   "source": [
    "df4 = df4[df4['bathrooms'] != 'None']"
   ]
  },
  {
   "cell_type": "code",
   "execution_count": 22,
   "id": "af89fabc-9fb5-4dda-80fb-6923353f49ff",
   "metadata": {},
   "outputs": [
    {
     "data": {
      "text/plain": [
       "1        3135\n",
       "2        2518\n",
       "3        2087\n",
       "T        1910\n",
       "4        1527\n",
       "None     1380\n",
       "5         987\n",
       "R         495\n",
       "6         481\n",
       "7         402\n",
       "S         309\n",
       "8         204\n",
       "S - T      62\n",
       "1 - 2      40\n",
       "3 - 4      37\n",
       "9          31\n",
       "4 - 5      31\n",
       "5 - 6      26\n",
       "2 - 3      21\n",
       "10         20\n",
       "Name: floor, dtype: int64"
      ]
     },
     "execution_count": 22,
     "metadata": {},
     "output_type": "execute_result"
    }
   ],
   "source": [
    "df['floor'].value_counts()"
   ]
  },
  {
   "cell_type": "code",
   "execution_count": 25,
   "id": "2886d2d4-a0e1-4dc3-b327-dddb42727753",
   "metadata": {},
   "outputs": [
    {
     "data": {
      "text/plain": [
       "0     10517\n",
       "1      4115\n",
       "2       903\n",
       "3        67\n",
       "4        32\n",
       "5        16\n",
       "10       15\n",
       "8         8\n",
       "6         6\n",
       "7         5\n",
       "15        4\n",
       "20        4\n",
       "9         3\n",
       "27        1\n",
       "70        1\n",
       "14        1\n",
       "11        1\n",
       "Name: garage, dtype: int64"
      ]
     },
     "execution_count": 25,
     "metadata": {},
     "output_type": "execute_result"
    }
   ],
   "source": [
    "df4['garage'].value_counts()"
   ]
  },
  {
   "cell_type": "code",
   "execution_count": 26,
   "id": "3b1648f1-76b6-4f9f-bd53-686124600e30",
   "metadata": {},
   "outputs": [],
   "source": [
    "df5 = df4.copy()\n",
    "df5.loc[df1.groupby('garage')['garage'].transform('count').lt(20), 'garage'] = 'None'"
   ]
  },
  {
   "cell_type": "code",
   "execution_count": 27,
   "id": "cc25cfcb-0b48-4648-8be0-e99b6330a1aa",
   "metadata": {},
   "outputs": [
    {
     "data": {
      "text/plain": [
       "0       10517\n",
       "1        4115\n",
       "2         903\n",
       "3          67\n",
       "None       65\n",
       "4          32\n",
       "Name: garage, dtype: int64"
      ]
     },
     "execution_count": 27,
     "metadata": {},
     "output_type": "execute_result"
    }
   ],
   "source": [
    "df5['garage'].value_counts()"
   ]
  },
  {
   "cell_type": "code",
   "execution_count": 29,
   "id": "c7c84b90-6ef9-4271-8754-d63c0307a2f9",
   "metadata": {},
   "outputs": [
    {
     "data": {
      "text/plain": [
       "False    14781\n",
       "True       918\n",
       "Name: isNew, dtype: int64"
      ]
     },
     "execution_count": 29,
     "metadata": {},
     "output_type": "execute_result"
    }
   ],
   "source": [
    "df5['isNew'].value_counts()"
   ]
  },
  {
   "cell_type": "code",
   "execution_count": 30,
   "id": "e692f8c8-5fe4-4689-b48a-4e4d218c49d2",
   "metadata": {},
   "outputs": [],
   "source": [
    "df5['isNew'] = df5['isNew'].replace('False', '0').replace('True', '1')\n",
    "df5['isNew'] = df5['isNew'].astype(int)"
   ]
  },
  {
   "cell_type": "code",
   "execution_count": 31,
   "id": "6d110d82-aea6-4496-84ef-6da9614f86ca",
   "metadata": {},
   "outputs": [
    {
     "data": {
      "text/plain": [
       "0    14781\n",
       "1      918\n",
       "Name: isNew, dtype: int64"
      ]
     },
     "execution_count": 31,
     "metadata": {},
     "output_type": "execute_result"
    }
   ],
   "source": [
    "df5['isNew'].value_counts()"
   ]
  },
  {
   "cell_type": "code",
   "execution_count": 41,
   "id": "e88089e2-5e6e-4860-8983-2d44d2eb0f07",
   "metadata": {},
   "outputs": [
    {
     "data": {
      "text/plain": [
       "0    13740\n",
       "1     1808\n",
       "Name: luxury, dtype: int64"
      ]
     },
     "execution_count": 41,
     "metadata": {},
     "output_type": "execute_result"
    }
   ],
   "source": [
    "df5['luxury'].value_counts()"
   ]
  },
  {
   "cell_type": "code",
   "execution_count": 33,
   "id": "01fad723-7457-4ac3-851e-c1a4e66e401d",
   "metadata": {},
   "outputs": [],
   "source": [
    "df5['luxury'] = df5['luxury'].replace('False', '0').replace('True', '1')\n",
    "df5['luxury'] = df5['luxury'].astype(int)"
   ]
  },
  {
   "cell_type": "code",
   "execution_count": 34,
   "id": "0547227d-256d-40bd-b157-3275c8f9827e",
   "metadata": {},
   "outputs": [
    {
     "data": {
      "text/plain": [
       "0    13891\n",
       "1     1808\n",
       "Name: luxury, dtype: int64"
      ]
     },
     "execution_count": 34,
     "metadata": {},
     "output_type": "execute_result"
    }
   ],
   "source": [
    "df5['luxury'].value_counts()"
   ]
  },
  {
   "cell_type": "code",
   "execution_count": 38,
   "id": "c9fc0496-cd39-45f6-9976-d19d1a0a99e0",
   "metadata": {},
   "outputs": [
    {
     "data": {
      "text/plain": [
       "Residenziale    15548\n",
       "Name: category, dtype: int64"
      ]
     },
     "execution_count": 38,
     "metadata": {},
     "output_type": "execute_result"
    }
   ],
   "source": [
    "df5['category'].value_counts()"
   ]
  },
  {
   "cell_type": "code",
   "execution_count": 37,
   "id": "d4989bbe-f175-4fa9-bac8-dfafd9526711",
   "metadata": {},
   "outputs": [],
   "source": [
    "df5 = df5[df5['category'] != 'Palazzi - Edifici']"
   ]
  },
  {
   "cell_type": "code",
   "execution_count": 40,
   "id": "1b3a2e4c-1f5d-440e-9692-81ee5f9c49a8",
   "metadata": {},
   "outputs": [],
   "source": [
    "df5 = df5.drop('category', axis=1)"
   ]
  },
  {
   "cell_type": "code",
   "execution_count": 42,
   "id": "22ef35d8-9b7a-4511-850d-50d14866a9ff",
   "metadata": {},
   "outputs": [
    {
     "data": {
      "text/plain": [
       "Appartamento          14017\n",
       "Attico - Mansarda       950\n",
       "Villa                   350\n",
       "Villetta a schiera      107\n",
       "Casa indipendente        56\n",
       "Loft                     55\n",
       "Rustico - Casale         13\n",
       "Name: typology, dtype: int64"
      ]
     },
     "execution_count": 42,
     "metadata": {},
     "output_type": "execute_result"
    }
   ],
   "source": [
    "df5['typology'].value_counts()"
   ]
  },
  {
   "cell_type": "code",
   "execution_count": 43,
   "id": "623cec7a-9507-45f4-a5ac-f39e7d9ba98b",
   "metadata": {},
   "outputs": [
    {
     "data": {
      "text/plain": [
       "Buono / Abitabile         6462\n",
       "Ottimo / Ristrutturato    4600\n",
       "Da ristrutturare          2890\n",
       "Nuovo / In costruzione    1468\n",
       "None                       128\n",
       "Name: condition, dtype: int64"
      ]
     },
     "execution_count": 43,
     "metadata": {},
     "output_type": "execute_result"
    }
   ],
   "source": [
    "df5['condition'].value_counts()"
   ]
  },
  {
   "cell_type": "code",
   "execution_count": 44,
   "id": "1c83f156-ca18-4c84-98bd-6b12023a6626",
   "metadata": {},
   "outputs": [
    {
     "data": {
      "text/plain": [
       "Index(['latitude', 'longitude', 'price', 'buildingYear', 'surface', 'rooms',\n",
       "       'bathrooms', 'floor', 'garage', 'isNew', 'luxury', 'typology',\n",
       "       'condition', 'features'],\n",
       "      dtype='object')"
      ]
     },
     "execution_count": 44,
     "metadata": {},
     "output_type": "execute_result"
    }
   ],
   "source": [
    "df5.columns"
   ]
  },
  {
   "cell_type": "markdown",
   "id": "7336ee6e-0fff-4c04-98ac-cee89e4d9a61",
   "metadata": {},
   "source": [
    "# one hot encoding solo di alcune features"
   ]
  },
  {
   "cell_type": "code",
   "execution_count": 52,
   "id": "4c3c308d-b784-46ce-b254-51e43feb3c04",
   "metadata": {},
   "outputs": [],
   "source": [
    "df6 = df5.copy()"
   ]
  },
  {
   "cell_type": "code",
   "execution_count": 53,
   "id": "89987e57-3e1f-4bf0-9d4c-58d3cfa508af",
   "metadata": {},
   "outputs": [],
   "source": [
    "features = ['balcone', 'terrazza', 'cantina', 'piscina', 'giardino']\n",
    "\n",
    "for feature in features:\n",
    "    df6[feature] = 0\n",
    "    \n",
    "df6['features'] = df6['features'].str.lower()\n",
    "\n",
    "for feature in features:\n",
    "    if feature == 'balcone':\n",
    "        df6.loc[(df6['features'].str.contains(feature)) | df6['features'].str.contains('balconi'), feature] = 1\n",
    "    else:\n",
    "         df6.loc[(df6['features'].str.contains(feature)), feature] = 1"
   ]
  },
  {
   "cell_type": "code",
   "execution_count": 54,
   "id": "5fbfbb9f-a39f-4602-af7b-edd5b0adfc0a",
   "metadata": {},
   "outputs": [],
   "source": [
    "df6 = df6.drop('features', axis=1)"
   ]
  },
  {
   "cell_type": "code",
   "execution_count": 60,
   "id": "c6da8aa0-7df7-4d1f-b931-1cab03edda01",
   "metadata": {},
   "outputs": [
    {
     "data": {
      "text/html": [
       "<div>\n",
       "<style scoped>\n",
       "    .dataframe tbody tr th:only-of-type {\n",
       "        vertical-align: middle;\n",
       "    }\n",
       "\n",
       "    .dataframe tbody tr th {\n",
       "        vertical-align: top;\n",
       "    }\n",
       "\n",
       "    .dataframe thead th {\n",
       "        text-align: right;\n",
       "    }\n",
       "</style>\n",
       "<table border=\"1\" class=\"dataframe\">\n",
       "  <thead>\n",
       "    <tr style=\"text-align: right;\">\n",
       "      <th></th>\n",
       "      <th>latitude</th>\n",
       "      <th>longitude</th>\n",
       "      <th>price</th>\n",
       "      <th>buildingYear</th>\n",
       "      <th>surface</th>\n",
       "      <th>rooms</th>\n",
       "      <th>bathrooms</th>\n",
       "      <th>floor</th>\n",
       "      <th>garage</th>\n",
       "      <th>isNew</th>\n",
       "      <th>luxury</th>\n",
       "      <th>typology</th>\n",
       "      <th>condition</th>\n",
       "      <th>balcone</th>\n",
       "      <th>terrazza</th>\n",
       "      <th>cantina</th>\n",
       "      <th>piscina</th>\n",
       "      <th>giardino</th>\n",
       "    </tr>\n",
       "  </thead>\n",
       "  <tbody>\n",
       "    <tr>\n",
       "      <th>0</th>\n",
       "      <td>41.854401</td>\n",
       "      <td>12.50600</td>\n",
       "      <td>219000.0</td>\n",
       "      <td>NaN</td>\n",
       "      <td>65</td>\n",
       "      <td>2</td>\n",
       "      <td>1</td>\n",
       "      <td>T</td>\n",
       "      <td>0</td>\n",
       "      <td>0</td>\n",
       "      <td>0</td>\n",
       "      <td>Appartamento</td>\n",
       "      <td>Ottimo / Ristrutturato</td>\n",
       "      <td>0</td>\n",
       "      <td>0</td>\n",
       "      <td>1</td>\n",
       "      <td>0</td>\n",
       "      <td>0</td>\n",
       "    </tr>\n",
       "    <tr>\n",
       "      <th>1</th>\n",
       "      <td>41.854401</td>\n",
       "      <td>12.50600</td>\n",
       "      <td>219000.0</td>\n",
       "      <td>NaN</td>\n",
       "      <td>65</td>\n",
       "      <td>2</td>\n",
       "      <td>1</td>\n",
       "      <td>T</td>\n",
       "      <td>0</td>\n",
       "      <td>0</td>\n",
       "      <td>0</td>\n",
       "      <td>Appartamento</td>\n",
       "      <td>Ottimo / Ristrutturato</td>\n",
       "      <td>0</td>\n",
       "      <td>0</td>\n",
       "      <td>0</td>\n",
       "      <td>0</td>\n",
       "      <td>1</td>\n",
       "    </tr>\n",
       "    <tr>\n",
       "      <th>2</th>\n",
       "      <td>41.845798</td>\n",
       "      <td>12.54560</td>\n",
       "      <td>96000.0</td>\n",
       "      <td>1955.0</td>\n",
       "      <td>114</td>\n",
       "      <td>3</td>\n",
       "      <td>1</td>\n",
       "      <td>S</td>\n",
       "      <td>0</td>\n",
       "      <td>0</td>\n",
       "      <td>0</td>\n",
       "      <td>Appartamento</td>\n",
       "      <td>Buono / Abitabile</td>\n",
       "      <td>0</td>\n",
       "      <td>1</td>\n",
       "      <td>1</td>\n",
       "      <td>0</td>\n",
       "      <td>0</td>\n",
       "    </tr>\n",
       "    <tr>\n",
       "      <th>3</th>\n",
       "      <td>41.845501</td>\n",
       "      <td>12.48950</td>\n",
       "      <td>500000.0</td>\n",
       "      <td>1971.0</td>\n",
       "      <td>122</td>\n",
       "      <td>4</td>\n",
       "      <td>2</td>\n",
       "      <td>4</td>\n",
       "      <td>1</td>\n",
       "      <td>0</td>\n",
       "      <td>0</td>\n",
       "      <td>Appartamento</td>\n",
       "      <td>Ottimo / Ristrutturato</td>\n",
       "      <td>1</td>\n",
       "      <td>1</td>\n",
       "      <td>1</td>\n",
       "      <td>0</td>\n",
       "      <td>1</td>\n",
       "    </tr>\n",
       "    <tr>\n",
       "      <th>4</th>\n",
       "      <td>41.839802</td>\n",
       "      <td>12.53980</td>\n",
       "      <td>89000.0</td>\n",
       "      <td>1950.0</td>\n",
       "      <td>50</td>\n",
       "      <td>1</td>\n",
       "      <td>1</td>\n",
       "      <td>3</td>\n",
       "      <td>0</td>\n",
       "      <td>0</td>\n",
       "      <td>0</td>\n",
       "      <td>Attico - Mansarda</td>\n",
       "      <td>Buono / Abitabile</td>\n",
       "      <td>0</td>\n",
       "      <td>0</td>\n",
       "      <td>0</td>\n",
       "      <td>0</td>\n",
       "      <td>0</td>\n",
       "    </tr>\n",
       "    <tr>\n",
       "      <th>...</th>\n",
       "      <td>...</td>\n",
       "      <td>...</td>\n",
       "      <td>...</td>\n",
       "      <td>...</td>\n",
       "      <td>...</td>\n",
       "      <td>...</td>\n",
       "      <td>...</td>\n",
       "      <td>...</td>\n",
       "      <td>...</td>\n",
       "      <td>...</td>\n",
       "      <td>...</td>\n",
       "      <td>...</td>\n",
       "      <td>...</td>\n",
       "      <td>...</td>\n",
       "      <td>...</td>\n",
       "      <td>...</td>\n",
       "      <td>...</td>\n",
       "      <td>...</td>\n",
       "    </tr>\n",
       "    <tr>\n",
       "      <th>15697</th>\n",
       "      <td>41.880199</td>\n",
       "      <td>12.48320</td>\n",
       "      <td>550000.0</td>\n",
       "      <td>NaN</td>\n",
       "      <td>60</td>\n",
       "      <td>2</td>\n",
       "      <td>1</td>\n",
       "      <td>2</td>\n",
       "      <td>0</td>\n",
       "      <td>0</td>\n",
       "      <td>1</td>\n",
       "      <td>Appartamento</td>\n",
       "      <td>Nuovo / In costruzione</td>\n",
       "      <td>0</td>\n",
       "      <td>1</td>\n",
       "      <td>0</td>\n",
       "      <td>0</td>\n",
       "      <td>1</td>\n",
       "    </tr>\n",
       "    <tr>\n",
       "      <th>15698</th>\n",
       "      <td>41.875801</td>\n",
       "      <td>12.48760</td>\n",
       "      <td>240000.0</td>\n",
       "      <td>1970.0</td>\n",
       "      <td>47</td>\n",
       "      <td>2</td>\n",
       "      <td>1</td>\n",
       "      <td>S</td>\n",
       "      <td>0</td>\n",
       "      <td>0</td>\n",
       "      <td>0</td>\n",
       "      <td>Appartamento</td>\n",
       "      <td>Buono / Abitabile</td>\n",
       "      <td>0</td>\n",
       "      <td>0</td>\n",
       "      <td>0</td>\n",
       "      <td>0</td>\n",
       "      <td>1</td>\n",
       "    </tr>\n",
       "    <tr>\n",
       "      <th>15699</th>\n",
       "      <td>41.877300</td>\n",
       "      <td>12.48130</td>\n",
       "      <td>690000.0</td>\n",
       "      <td>NaN</td>\n",
       "      <td>110</td>\n",
       "      <td>3</td>\n",
       "      <td>1</td>\n",
       "      <td>1</td>\n",
       "      <td>0</td>\n",
       "      <td>0</td>\n",
       "      <td>1</td>\n",
       "      <td>Appartamento</td>\n",
       "      <td>Ottimo / Ristrutturato</td>\n",
       "      <td>0</td>\n",
       "      <td>0</td>\n",
       "      <td>0</td>\n",
       "      <td>0</td>\n",
       "      <td>0</td>\n",
       "    </tr>\n",
       "    <tr>\n",
       "      <th>15700</th>\n",
       "      <td>41.882000</td>\n",
       "      <td>12.48630</td>\n",
       "      <td>7200000.0</td>\n",
       "      <td>1900.0</td>\n",
       "      <td>1000</td>\n",
       "      <td>5+</td>\n",
       "      <td>3+</td>\n",
       "      <td>None</td>\n",
       "      <td>None</td>\n",
       "      <td>0</td>\n",
       "      <td>1</td>\n",
       "      <td>Villa</td>\n",
       "      <td>Ottimo / Ristrutturato</td>\n",
       "      <td>1</td>\n",
       "      <td>1</td>\n",
       "      <td>1</td>\n",
       "      <td>0</td>\n",
       "      <td>1</td>\n",
       "    </tr>\n",
       "    <tr>\n",
       "      <th>15702</th>\n",
       "      <td>41.876060</td>\n",
       "      <td>12.48655</td>\n",
       "      <td>550000.0</td>\n",
       "      <td>NaN</td>\n",
       "      <td>80</td>\n",
       "      <td>3</td>\n",
       "      <td>2</td>\n",
       "      <td>None</td>\n",
       "      <td>0</td>\n",
       "      <td>0</td>\n",
       "      <td>1</td>\n",
       "      <td>Casa indipendente</td>\n",
       "      <td>Ottimo / Ristrutturato</td>\n",
       "      <td>0</td>\n",
       "      <td>0</td>\n",
       "      <td>0</td>\n",
       "      <td>0</td>\n",
       "      <td>1</td>\n",
       "    </tr>\n",
       "  </tbody>\n",
       "</table>\n",
       "<p>15548 rows × 18 columns</p>\n",
       "</div>"
      ],
      "text/plain": [
       "        latitude  longitude      price  buildingYear  surface rooms bathrooms  \\\n",
       "0      41.854401   12.50600   219000.0           NaN       65     2         1   \n",
       "1      41.854401   12.50600   219000.0           NaN       65     2         1   \n",
       "2      41.845798   12.54560    96000.0        1955.0      114     3         1   \n",
       "3      41.845501   12.48950   500000.0        1971.0      122     4         2   \n",
       "4      41.839802   12.53980    89000.0        1950.0       50     1         1   \n",
       "...          ...        ...        ...           ...      ...   ...       ...   \n",
       "15697  41.880199   12.48320   550000.0           NaN       60     2         1   \n",
       "15698  41.875801   12.48760   240000.0        1970.0       47     2         1   \n",
       "15699  41.877300   12.48130   690000.0           NaN      110     3         1   \n",
       "15700  41.882000   12.48630  7200000.0        1900.0     1000    5+        3+   \n",
       "15702  41.876060   12.48655   550000.0           NaN       80     3         2   \n",
       "\n",
       "      floor garage  isNew  luxury           typology               condition  \\\n",
       "0         T      0      0       0       Appartamento  Ottimo / Ristrutturato   \n",
       "1         T      0      0       0       Appartamento  Ottimo / Ristrutturato   \n",
       "2         S      0      0       0       Appartamento       Buono / Abitabile   \n",
       "3         4      1      0       0       Appartamento  Ottimo / Ristrutturato   \n",
       "4         3      0      0       0  Attico - Mansarda       Buono / Abitabile   \n",
       "...     ...    ...    ...     ...                ...                     ...   \n",
       "15697     2      0      0       1       Appartamento  Nuovo / In costruzione   \n",
       "15698     S      0      0       0       Appartamento       Buono / Abitabile   \n",
       "15699     1      0      0       1       Appartamento  Ottimo / Ristrutturato   \n",
       "15700  None   None      0       1              Villa  Ottimo / Ristrutturato   \n",
       "15702  None      0      0       1  Casa indipendente  Ottimo / Ristrutturato   \n",
       "\n",
       "       balcone  terrazza  cantina  piscina  giardino  \n",
       "0            0         0        1        0         0  \n",
       "1            0         0        0        0         1  \n",
       "2            0         1        1        0         0  \n",
       "3            1         1        1        0         1  \n",
       "4            0         0        0        0         0  \n",
       "...        ...       ...      ...      ...       ...  \n",
       "15697        0         1        0        0         1  \n",
       "15698        0         0        0        0         1  \n",
       "15699        0         0        0        0         0  \n",
       "15700        1         1        1        0         1  \n",
       "15702        0         0        0        0         1  \n",
       "\n",
       "[15548 rows x 18 columns]"
      ]
     },
     "execution_count": 60,
     "metadata": {},
     "output_type": "execute_result"
    }
   ],
   "source": [
    "df6"
   ]
  },
  {
   "cell_type": "code",
   "execution_count": 62,
   "id": "1c4f8e92-b441-4931-8bec-650455494ef0",
   "metadata": {},
   "outputs": [
    {
     "data": {
      "image/png": "[encoded data removed]",
      "text/plain": [
       "<Figure size 640x480 with 1 Axes>"
      ]
     },
     "metadata": {},
     "output_type": "display_data"
    }
   ],
   "source": [
    "plot_bar(df6, 'None')"
   ]
  },
  {
   "cell_type": "code",
   "execution_count": 63,
   "id": "8d480489-5b49-49cc-b32f-84e608e3e509",
   "metadata": {},
   "outputs": [],
   "source": [
    "save_to_sql('./data/processed/rome_house_cleaned.db', df6, 'housedata')"
   ]
  },
  {
   "cell_type": "code",
   "execution_count": 64,
   "id": "2787ece0-2673-4145-8c2a-60c7d5b30842",
   "metadata": {},
   "outputs": [
    {
     "data": {
      "text/html": [
       "<div>\n",
       "<style scoped>\n",
       "    .dataframe tbody tr th:only-of-type {\n",
       "        vertical-align: middle;\n",
       "    }\n",
       "\n",
       "    .dataframe tbody tr th {\n",
       "        vertical-align: top;\n",
       "    }\n",
       "\n",
       "    .dataframe thead th {\n",
       "        text-align: right;\n",
       "    }\n",
       "</style>\n",
       "<table border=\"1\" class=\"dataframe\">\n",
       "  <thead>\n",
       "    <tr style=\"text-align: right;\">\n",
       "      <th></th>\n",
       "      <th>latitude</th>\n",
       "      <th>longitude</th>\n",
       "      <th>price</th>\n",
       "      <th>buildingYear</th>\n",
       "      <th>surface</th>\n",
       "      <th>rooms</th>\n",
       "      <th>bathrooms</th>\n",
       "      <th>floor</th>\n",
       "      <th>garage</th>\n",
       "      <th>isNew</th>\n",
       "      <th>luxury</th>\n",
       "      <th>typology</th>\n",
       "      <th>condition</th>\n",
       "      <th>balcone</th>\n",
       "      <th>terrazza</th>\n",
       "      <th>cantina</th>\n",
       "      <th>piscina</th>\n",
       "      <th>giardino</th>\n",
       "    </tr>\n",
       "  </thead>\n",
       "  <tbody>\n",
       "    <tr>\n",
       "      <th>0</th>\n",
       "      <td>41.854401</td>\n",
       "      <td>12.50600</td>\n",
       "      <td>219000.0</td>\n",
       "      <td>NaN</td>\n",
       "      <td>65</td>\n",
       "      <td>2</td>\n",
       "      <td>1</td>\n",
       "      <td>T</td>\n",
       "      <td>0</td>\n",
       "      <td>0</td>\n",
       "      <td>0</td>\n",
       "      <td>Appartamento</td>\n",
       "      <td>Ottimo / Ristrutturato</td>\n",
       "      <td>0</td>\n",
       "      <td>0</td>\n",
       "      <td>1</td>\n",
       "      <td>0</td>\n",
       "      <td>0</td>\n",
       "    </tr>\n",
       "    <tr>\n",
       "      <th>1</th>\n",
       "      <td>41.854401</td>\n",
       "      <td>12.50600</td>\n",
       "      <td>219000.0</td>\n",
       "      <td>NaN</td>\n",
       "      <td>65</td>\n",
       "      <td>2</td>\n",
       "      <td>1</td>\n",
       "      <td>T</td>\n",
       "      <td>0</td>\n",
       "      <td>0</td>\n",
       "      <td>0</td>\n",
       "      <td>Appartamento</td>\n",
       "      <td>Ottimo / Ristrutturato</td>\n",
       "      <td>0</td>\n",
       "      <td>0</td>\n",
       "      <td>0</td>\n",
       "      <td>0</td>\n",
       "      <td>1</td>\n",
       "    </tr>\n",
       "    <tr>\n",
       "      <th>2</th>\n",
       "      <td>41.845798</td>\n",
       "      <td>12.54560</td>\n",
       "      <td>96000.0</td>\n",
       "      <td>1955.0</td>\n",
       "      <td>114</td>\n",
       "      <td>3</td>\n",
       "      <td>1</td>\n",
       "      <td>S</td>\n",
       "      <td>0</td>\n",
       "      <td>0</td>\n",
       "      <td>0</td>\n",
       "      <td>Appartamento</td>\n",
       "      <td>Buono / Abitabile</td>\n",
       "      <td>0</td>\n",
       "      <td>1</td>\n",
       "      <td>1</td>\n",
       "      <td>0</td>\n",
       "      <td>0</td>\n",
       "    </tr>\n",
       "    <tr>\n",
       "      <th>3</th>\n",
       "      <td>41.845501</td>\n",
       "      <td>12.48950</td>\n",
       "      <td>500000.0</td>\n",
       "      <td>1971.0</td>\n",
       "      <td>122</td>\n",
       "      <td>4</td>\n",
       "      <td>2</td>\n",
       "      <td>4</td>\n",
       "      <td>1</td>\n",
       "      <td>0</td>\n",
       "      <td>0</td>\n",
       "      <td>Appartamento</td>\n",
       "      <td>Ottimo / Ristrutturato</td>\n",
       "      <td>1</td>\n",
       "      <td>1</td>\n",
       "      <td>1</td>\n",
       "      <td>0</td>\n",
       "      <td>1</td>\n",
       "    </tr>\n",
       "    <tr>\n",
       "      <th>4</th>\n",
       "      <td>41.839802</td>\n",
       "      <td>12.53980</td>\n",
       "      <td>89000.0</td>\n",
       "      <td>1950.0</td>\n",
       "      <td>50</td>\n",
       "      <td>1</td>\n",
       "      <td>1</td>\n",
       "      <td>3</td>\n",
       "      <td>0</td>\n",
       "      <td>0</td>\n",
       "      <td>0</td>\n",
       "      <td>Attico - Mansarda</td>\n",
       "      <td>Buono / Abitabile</td>\n",
       "      <td>0</td>\n",
       "      <td>0</td>\n",
       "      <td>0</td>\n",
       "      <td>0</td>\n",
       "      <td>0</td>\n",
       "    </tr>\n",
       "    <tr>\n",
       "      <th>...</th>\n",
       "      <td>...</td>\n",
       "      <td>...</td>\n",
       "      <td>...</td>\n",
       "      <td>...</td>\n",
       "      <td>...</td>\n",
       "      <td>...</td>\n",
       "      <td>...</td>\n",
       "      <td>...</td>\n",
       "      <td>...</td>\n",
       "      <td>...</td>\n",
       "      <td>...</td>\n",
       "      <td>...</td>\n",
       "      <td>...</td>\n",
       "      <td>...</td>\n",
       "      <td>...</td>\n",
       "      <td>...</td>\n",
       "      <td>...</td>\n",
       "      <td>...</td>\n",
       "    </tr>\n",
       "    <tr>\n",
       "      <th>15697</th>\n",
       "      <td>41.880199</td>\n",
       "      <td>12.48320</td>\n",
       "      <td>550000.0</td>\n",
       "      <td>NaN</td>\n",
       "      <td>60</td>\n",
       "      <td>2</td>\n",
       "      <td>1</td>\n",
       "      <td>2</td>\n",
       "      <td>0</td>\n",
       "      <td>0</td>\n",
       "      <td>1</td>\n",
       "      <td>Appartamento</td>\n",
       "      <td>Nuovo / In costruzione</td>\n",
       "      <td>0</td>\n",
       "      <td>1</td>\n",
       "      <td>0</td>\n",
       "      <td>0</td>\n",
       "      <td>1</td>\n",
       "    </tr>\n",
       "    <tr>\n",
       "      <th>15698</th>\n",
       "      <td>41.875801</td>\n",
       "      <td>12.48760</td>\n",
       "      <td>240000.0</td>\n",
       "      <td>1970.0</td>\n",
       "      <td>47</td>\n",
       "      <td>2</td>\n",
       "      <td>1</td>\n",
       "      <td>S</td>\n",
       "      <td>0</td>\n",
       "      <td>0</td>\n",
       "      <td>0</td>\n",
       "      <td>Appartamento</td>\n",
       "      <td>Buono / Abitabile</td>\n",
       "      <td>0</td>\n",
       "      <td>0</td>\n",
       "      <td>0</td>\n",
       "      <td>0</td>\n",
       "      <td>1</td>\n",
       "    </tr>\n",
       "    <tr>\n",
       "      <th>15699</th>\n",
       "      <td>41.877300</td>\n",
       "      <td>12.48130</td>\n",
       "      <td>690000.0</td>\n",
       "      <td>NaN</td>\n",
       "      <td>110</td>\n",
       "      <td>3</td>\n",
       "      <td>1</td>\n",
       "      <td>1</td>\n",
       "      <td>0</td>\n",
       "      <td>0</td>\n",
       "      <td>1</td>\n",
       "      <td>Appartamento</td>\n",
       "      <td>Ottimo / Ristrutturato</td>\n",
       "      <td>0</td>\n",
       "      <td>0</td>\n",
       "      <td>0</td>\n",
       "      <td>0</td>\n",
       "      <td>0</td>\n",
       "    </tr>\n",
       "    <tr>\n",
       "      <th>15700</th>\n",
       "      <td>41.882000</td>\n",
       "      <td>12.48630</td>\n",
       "      <td>7200000.0</td>\n",
       "      <td>1900.0</td>\n",
       "      <td>1000</td>\n",
       "      <td>5+</td>\n",
       "      <td>3+</td>\n",
       "      <td>None</td>\n",
       "      <td>None</td>\n",
       "      <td>0</td>\n",
       "      <td>1</td>\n",
       "      <td>Villa</td>\n",
       "      <td>Ottimo / Ristrutturato</td>\n",
       "      <td>1</td>\n",
       "      <td>1</td>\n",
       "      <td>1</td>\n",
       "      <td>0</td>\n",
       "      <td>1</td>\n",
       "    </tr>\n",
       "    <tr>\n",
       "      <th>15702</th>\n",
       "      <td>41.876060</td>\n",
       "      <td>12.48655</td>\n",
       "      <td>550000.0</td>\n",
       "      <td>NaN</td>\n",
       "      <td>80</td>\n",
       "      <td>3</td>\n",
       "      <td>2</td>\n",
       "      <td>None</td>\n",
       "      <td>0</td>\n",
       "      <td>0</td>\n",
       "      <td>1</td>\n",
       "      <td>Casa indipendente</td>\n",
       "      <td>Ottimo / Ristrutturato</td>\n",
       "      <td>0</td>\n",
       "      <td>0</td>\n",
       "      <td>0</td>\n",
       "      <td>0</td>\n",
       "      <td>1</td>\n",
       "    </tr>\n",
       "  </tbody>\n",
       "</table>\n",
       "<p>15548 rows × 18 columns</p>\n",
       "</div>"
      ],
      "text/plain": [
       "        latitude  longitude      price  buildingYear  surface rooms bathrooms  \\\n",
       "0      41.854401   12.50600   219000.0           NaN       65     2         1   \n",
       "1      41.854401   12.50600   219000.0           NaN       65     2         1   \n",
       "2      41.845798   12.54560    96000.0        1955.0      114     3         1   \n",
       "3      41.845501   12.48950   500000.0        1971.0      122     4         2   \n",
       "4      41.839802   12.53980    89000.0        1950.0       50     1         1   \n",
       "...          ...        ...        ...           ...      ...   ...       ...   \n",
       "15697  41.880199   12.48320   550000.0           NaN       60     2         1   \n",
       "15698  41.875801   12.48760   240000.0        1970.0       47     2         1   \n",
       "15699  41.877300   12.48130   690000.0           NaN      110     3         1   \n",
       "15700  41.882000   12.48630  7200000.0        1900.0     1000    5+        3+   \n",
       "15702  41.876060   12.48655   550000.0           NaN       80     3         2   \n",
       "\n",
       "      floor garage  isNew  luxury           typology               condition  \\\n",
       "0         T      0      0       0       Appartamento  Ottimo / Ristrutturato   \n",
       "1         T      0      0       0       Appartamento  Ottimo / Ristrutturato   \n",
       "2         S      0      0       0       Appartamento       Buono / Abitabile   \n",
       "3         4      1      0       0       Appartamento  Ottimo / Ristrutturato   \n",
       "4         3      0      0       0  Attico - Mansarda       Buono / Abitabile   \n",
       "...     ...    ...    ...     ...                ...                     ...   \n",
       "15697     2      0      0       1       Appartamento  Nuovo / In costruzione   \n",
       "15698     S      0      0       0       Appartamento       Buono / Abitabile   \n",
       "15699     1      0      0       1       Appartamento  Ottimo / Ristrutturato   \n",
       "15700  None   None      0       1              Villa  Ottimo / Ristrutturato   \n",
       "15702  None      0      0       1  Casa indipendente  Ottimo / Ristrutturato   \n",
       "\n",
       "       balcone  terrazza  cantina  piscina  giardino  \n",
       "0            0         0        1        0         0  \n",
       "1            0         0        0        0         1  \n",
       "2            0         1        1        0         0  \n",
       "3            1         1        1        0         1  \n",
       "4            0         0        0        0         0  \n",
       "...        ...       ...      ...      ...       ...  \n",
       "15697        0         1        0        0         1  \n",
       "15698        0         0        0        0         1  \n",
       "15699        0         0        0        0         0  \n",
       "15700        1         1        1        0         1  \n",
       "15702        0         0        0        0         1  \n",
       "\n",
       "[15548 rows x 18 columns]"
      ]
     },
     "execution_count": 64,
     "metadata": {},
     "output_type": "execute_result"
    }
   ],
   "source": [
    "df6"
   ]
  },
  {
   "cell_type": "code",
   "execution_count": null,
   "id": "cbfd0ca8-a15d-4795-a5f5-51329eddafa8",
   "metadata": {},
   "outputs": [],
   "source": []
  }
 ],
 "metadata": {
  "kernelspec": {
   "display_name": "Python 3 (ipykernel)",
   "language": "python",
   "name": "python3"
  },
  "language_info": {
   "codemirror_mode": {
    "name": "ipython",
    "version": 3
   },
   "file_extension": ".py",
   "mimetype": "text/x-python",
   "name": "python",
   "nbconvert_exporter": "python",
   "pygments_lexer": "ipython3",
   "version": "3.8.16"
  }
 },
 "nbformat": 4,
 "nbformat_minor": 5
}
