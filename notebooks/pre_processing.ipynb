{
 "cells": [
  {
   "cell_type": "code",
   "execution_count": 1,
   "id": "9b455859-841b-419e-89c2-e5a20a51fdb0",
   "metadata": {},
   "outputs": [],
   "source": [
    "import os\n",
    "os.chdir('..')"
   ]
  },
  {
   "cell_type": "code",
   "execution_count": 2,
   "id": "d359f0cb-95b3-4df2-870e-bf0c9772549f",
   "metadata": {},
   "outputs": [],
   "source": [
    "import pandas as pd\n",
    "from sqlalchemy import create_engine\n",
    "import sqlite3\n",
    "import numpy as np\n",
    "import matplotlib.pyplot as plt\n",
    "\n",
    "from src.data_exploration.data_exploration import *"
   ]
  },
  {
   "cell_type": "code",
   "execution_count": 3,
   "id": "00e78b33-7a87-4c1b-8906-f61f96aa0db6",
   "metadata": {},
   "outputs": [],
   "source": [
    "df = read_sqlite_table('housedata', './data/processed/rome_house_raw.db')"
   ]
  },
  {
   "cell_type": "code",
   "execution_count": 4,
   "id": "462a9549-8da1-4225-88d6-e6442f1af799",
   "metadata": {},
   "outputs": [
    {
     "data": {
      "text/plain": [
       "Index(['macrozoneId', 'idHouse', 'latitude', 'longitude', 'price',\n",
       "       'buildingYear', 'surface', 'rooms', 'bathrooms', 'floor', 'floors',\n",
       "       'garage', 'isNew', 'luxury', 'typology', 'category', 'features'],\n",
       "      dtype='object')"
      ]
     },
     "execution_count": 4,
     "metadata": {},
     "output_type": "execute_result"
    }
   ],
   "source": [
    "df.columns"
   ]
  },
  {
   "cell_type": "code",
   "execution_count": 5,
   "id": "37f78a52-8349-4d7c-b71e-e0fdd5ef5e5e",
   "metadata": {},
   "outputs": [
    {
     "data": {
      "text/plain": [
       "(15339, 13)"
      ]
     },
     "execution_count": 5,
     "metadata": {},
     "output_type": "execute_result"
    }
   ],
   "source": [
    "cols_to_drop = ['macrozoneId', 'idHouse','isNew', 'category']\n",
    "df = df.drop(cols_to_drop, axis=1)\n",
    "df.shape"
   ]
  },
  {
   "cell_type": "code",
   "execution_count": 6,
   "id": "6f110639-569d-4ad9-833b-7e906e635bab",
   "metadata": {},
   "outputs": [
    {
     "data": {
      "text/plain": [
       "latitude        float64\n",
       "longitude       float64\n",
       "price            object\n",
       "buildingYear      int64\n",
       "surface          object\n",
       "rooms            object\n",
       "bathrooms        object\n",
       "floor           float64\n",
       "floors            int64\n",
       "garage            int64\n",
       "luxury           object\n",
       "typology         object\n",
       "features         object\n",
       "dtype: object"
      ]
     },
     "execution_count": 6,
     "metadata": {},
     "output_type": "execute_result"
    }
   ],
   "source": [
    "df.dtypes"
   ]
  },
  {
   "cell_type": "code",
   "execution_count": 7,
   "id": "c5bfc009-417e-4afe-8ecf-c36c1487838c",
   "metadata": {},
   "outputs": [
    {
     "data": {
      "text/plain": [
       "array(['False', 'True'], dtype=object)"
      ]
     },
     "execution_count": 7,
     "metadata": {},
     "output_type": "execute_result"
    }
   ],
   "source": [
    "df['luxury'].unique()"
   ]
  },
  {
   "cell_type": "code",
   "execution_count": 8,
   "id": "24972494-2951-457e-ac93-902082dc1c56",
   "metadata": {},
   "outputs": [],
   "source": [
    "# Sostituisci i valori 'No' con '0'\n",
    "df['luxury'] = df['luxury'].replace('False', '0')\n",
    "df['luxury'] = df['luxury'].replace('True', '1')\n",
    "\n",
    "# Converti la colonna 'garage' in dtype intero\n",
    "df['luxury'] = df['luxury'].astype(int)"
   ]
  },
  {
   "cell_type": "code",
   "execution_count": 9,
   "id": "271eab10-7d04-459a-9645-961d4254fb04",
   "metadata": {},
   "outputs": [
    {
     "data": {
      "text/plain": [
       "dtype('int32')"
      ]
     },
     "execution_count": 9,
     "metadata": {},
     "output_type": "execute_result"
    }
   ],
   "source": [
    "df['luxury'].dtypes"
   ]
  },
  {
   "cell_type": "code",
   "execution_count": 10,
   "id": "e87ae403-ed74-4caa-9513-9cdd619f3e50",
   "metadata": {},
   "outputs": [
    {
     "data": {
      "text/plain": [
       "array(['Appartamento', 'Attico - Mansarda', 'Villa', 'Palazzo - Edificio',\n",
       "       'Villetta a schiera', 'Rustico - Casale', 'Casa indipendente',\n",
       "       'Loft'], dtype=object)"
      ]
     },
     "execution_count": 10,
     "metadata": {},
     "output_type": "execute_result"
    }
   ],
   "source": [
    "df['typology'].unique()"
   ]
  },
  {
   "cell_type": "code",
   "execution_count": 12,
   "id": "95a6107f-97bd-4c03-9244-470549f02a2a",
   "metadata": {},
   "outputs": [],
   "source": [
    "# tipologie = ['Appartamento', 'Attico - Mansarda', 'Villa', 'Palazzo - Edificio',\n",
    "#        'Villetta a schiera', 'Rustico - Casale', 'Casa indipendente',\n",
    "#        'Loft']\n",
    "\n",
    "# for tipologia in tipologie:\n",
    "#     df[tipologia] = 0\n",
    "    \n",
    "# for tipologia in tipologie:\n",
    "#     df.loc[(df['typology'].str.contains(tipologia)), tipologia] = 1"
   ]
  },
  {
   "cell_type": "code",
   "execution_count": 17,
   "id": "af22c5a8-8e56-440f-b7cc-62d0ccea5b40",
   "metadata": {},
   "outputs": [],
   "source": [
    "# df = df.drop('typology', axis=1)"
   ]
  },
  {
   "cell_type": "code",
   "execution_count": 11,
   "id": "65a0bd99-298e-46ef-97d6-d6d86a3d42a3",
   "metadata": {},
   "outputs": [
    {
     "data": {
      "text/html": [
       "<div>\n",
       "<style scoped>\n",
       "    .dataframe tbody tr th:only-of-type {\n",
       "        vertical-align: middle;\n",
       "    }\n",
       "\n",
       "    .dataframe tbody tr th {\n",
       "        vertical-align: top;\n",
       "    }\n",
       "\n",
       "    .dataframe thead th {\n",
       "        text-align: right;\n",
       "    }\n",
       "</style>\n",
       "<table border=\"1\" class=\"dataframe\">\n",
       "  <thead>\n",
       "    <tr style=\"text-align: right;\">\n",
       "      <th></th>\n",
       "      <th>latitude</th>\n",
       "      <th>longitude</th>\n",
       "      <th>price</th>\n",
       "      <th>buildingYear</th>\n",
       "      <th>surface</th>\n",
       "      <th>rooms</th>\n",
       "      <th>bathrooms</th>\n",
       "      <th>floor</th>\n",
       "      <th>floors</th>\n",
       "      <th>garage</th>\n",
       "      <th>luxury</th>\n",
       "      <th>typology</th>\n",
       "      <th>features</th>\n",
       "    </tr>\n",
       "  </thead>\n",
       "  <tbody>\n",
       "    <tr>\n",
       "      <th>0</th>\n",
       "      <td>41.845798</td>\n",
       "      <td>12.545600</td>\n",
       "      <td>96000</td>\n",
       "      <td>1955</td>\n",
       "      <td>114 m²</td>\n",
       "      <td>3</td>\n",
       "      <td>1</td>\n",
       "      <td>-1.0</td>\n",
       "      <td>3</td>\n",
       "      <td>0</td>\n",
       "      <td>0</td>\n",
       "      <td>Appartamento</td>\n",
       "      <td>terrazza, cantina, Infissi esterni in doppio v...</td>\n",
       "    </tr>\n",
       "    <tr>\n",
       "      <th>1</th>\n",
       "      <td>41.845501</td>\n",
       "      <td>12.489500</td>\n",
       "      <td>500000</td>\n",
       "      <td>1971</td>\n",
       "      <td>122 m²</td>\n",
       "      <td>4</td>\n",
       "      <td>2</td>\n",
       "      <td>4.0</td>\n",
       "      <td>6</td>\n",
       "      <td>1</td>\n",
       "      <td>0</td>\n",
       "      <td>Appartamento</td>\n",
       "      <td>cancello elettrico, Fibra ottica, videoCitofon...</td>\n",
       "    </tr>\n",
       "    <tr>\n",
       "      <th>2</th>\n",
       "      <td>41.843842</td>\n",
       "      <td>12.489600</td>\n",
       "      <td>430000</td>\n",
       "      <td>1971</td>\n",
       "      <td>110 m²</td>\n",
       "      <td>3</td>\n",
       "      <td>2</td>\n",
       "      <td>1.0</td>\n",
       "      <td>4</td>\n",
       "      <td>1</td>\n",
       "      <td>0</td>\n",
       "      <td>Appartamento</td>\n",
       "      <td>Cucina, balcone, terrazza, Solo Cucina Arredat...</td>\n",
       "    </tr>\n",
       "    <tr>\n",
       "      <th>3</th>\n",
       "      <td>41.848701</td>\n",
       "      <td>12.487170</td>\n",
       "      <td>359000</td>\n",
       "      <td>1960</td>\n",
       "      <td>118 m²</td>\n",
       "      <td>3</td>\n",
       "      <td>1</td>\n",
       "      <td>5.0</td>\n",
       "      <td>8</td>\n",
       "      <td>0</td>\n",
       "      <td>0</td>\n",
       "      <td>Appartamento</td>\n",
       "      <td>Impianto di allarme, Cucina, balcone, Giardino...</td>\n",
       "    </tr>\n",
       "    <tr>\n",
       "      <th>4</th>\n",
       "      <td>41.841084</td>\n",
       "      <td>12.498786</td>\n",
       "      <td>625000</td>\n",
       "      <td>2021</td>\n",
       "      <td>126 m²</td>\n",
       "      <td>4</td>\n",
       "      <td>2</td>\n",
       "      <td>5.5</td>\n",
       "      <td>6</td>\n",
       "      <td>1</td>\n",
       "      <td>0</td>\n",
       "      <td>Attico - Mansarda</td>\n",
       "      <td>Cucina, balcone, terrazza, Infissi esterni in ...</td>\n",
       "    </tr>\n",
       "  </tbody>\n",
       "</table>\n",
       "</div>"
      ],
      "text/plain": [
       "    latitude  longitude   price  buildingYear surface rooms bathrooms  floor  \\\n",
       "0  41.845798  12.545600   96000          1955  114 m²     3         1   -1.0   \n",
       "1  41.845501  12.489500  500000          1971  122 m²     4         2    4.0   \n",
       "2  41.843842  12.489600  430000          1971  110 m²     3         2    1.0   \n",
       "3  41.848701  12.487170  359000          1960  118 m²     3         1    5.0   \n",
       "4  41.841084  12.498786  625000          2021  126 m²     4         2    5.5   \n",
       "\n",
       "   floors  garage  luxury           typology  \\\n",
       "0       3       0       0       Appartamento   \n",
       "1       6       1       0       Appartamento   \n",
       "2       4       1       0       Appartamento   \n",
       "3       8       0       0       Appartamento   \n",
       "4       6       1       0  Attico - Mansarda   \n",
       "\n",
       "                                            features  \n",
       "0  terrazza, cantina, Infissi esterni in doppio v...  \n",
       "1  cancello elettrico, Fibra ottica, videoCitofon...  \n",
       "2  Cucina, balcone, terrazza, Solo Cucina Arredat...  \n",
       "3  Impianto di allarme, Cucina, balcone, Giardino...  \n",
       "4  Cucina, balcone, terrazza, Infissi esterni in ...  "
      ]
     },
     "execution_count": 11,
     "metadata": {},
     "output_type": "execute_result"
    }
   ],
   "source": [
    "df.head()"
   ]
  },
  {
   "cell_type": "code",
   "execution_count": 12,
   "id": "073cc607-9267-4d6f-8b9b-9bc20a18eba8",
   "metadata": {},
   "outputs": [],
   "source": [
    "df1 = df.copy()"
   ]
  },
  {
   "cell_type": "code",
   "execution_count": 13,
   "id": "f166c710-0d75-4927-a197-11388b2cb060",
   "metadata": {},
   "outputs": [
    {
     "name": "stderr",
     "output_type": "stream",
     "text": [
      "C:\\Users\\raffa\\AppData\\Local\\Temp\\ipykernel_27628\\2987068435.py:3: FutureWarning: The default value of regex will change from True to False in a future version. In addition, single character regular expressions will *not* be treated as literal strings when regex=True.\n",
      "  df1['surface'] = df1['surface'].str.replace('.','')\n"
     ]
    }
   ],
   "source": [
    "df1[['surface','m2']] = df1['surface'].str.split(pat=\" \", n= 1, expand=True)\n",
    "df1 = df1.drop(['m2'], axis=1)\n",
    "df1['surface'] = df1['surface'].str.replace('.','')\n",
    "df1['surface'] = df1['surface'].astype(int)"
   ]
  },
  {
   "cell_type": "code",
   "execution_count": 14,
   "id": "7526ab37-7b22-40db-82d8-e3131a97cec4",
   "metadata": {},
   "outputs": [
    {
     "data": {
      "text/plain": [
       "latitude        float64\n",
       "longitude       float64\n",
       "price            object\n",
       "buildingYear      int64\n",
       "surface           int32\n",
       "rooms            object\n",
       "bathrooms        object\n",
       "floor           float64\n",
       "floors            int64\n",
       "garage            int64\n",
       "luxury            int32\n",
       "typology         object\n",
       "features         object\n",
       "dtype: object"
      ]
     },
     "execution_count": 14,
     "metadata": {},
     "output_type": "execute_result"
    }
   ],
   "source": [
    "df1.dtypes"
   ]
  },
  {
   "cell_type": "code",
   "execution_count": 17,
   "id": "32b99316-d92b-4aae-a0fa-fc09fe6412d2",
   "metadata": {},
   "outputs": [
    {
     "data": {
      "text/plain": [
       "array(['1', '2', '3', '3+'], dtype=object)"
      ]
     },
     "execution_count": 17,
     "metadata": {},
     "output_type": "execute_result"
    }
   ],
   "source": [
    "df1['bathrooms'].unique()"
   ]
  },
  {
   "cell_type": "code",
   "execution_count": 18,
   "id": "d3590b73-44fd-4f82-bfc9-eaf6b87e6354",
   "metadata": {},
   "outputs": [
    {
     "data": {
      "text/plain": [
       "array(['3', '4', '5+', '2', '1', '5'], dtype=object)"
      ]
     },
     "execution_count": 18,
     "metadata": {},
     "output_type": "execute_result"
    }
   ],
   "source": [
    "df1['rooms'].unique()"
   ]
  },
  {
   "cell_type": "code",
   "execution_count": 28,
   "id": "6d370851-daa3-4bb1-8e03-b40eb4ce540e",
   "metadata": {},
   "outputs": [
    {
     "data": {
      "text/plain": [
       "latitude              float64\n",
       "longitude             float64\n",
       "price                  object\n",
       "buildingYear            int64\n",
       "surface                 int32\n",
       "rooms                   int32\n",
       "bathrooms               int32\n",
       "floor                 float64\n",
       "floors                  int64\n",
       "garage                  int64\n",
       "luxury                  int32\n",
       "features               object\n",
       "Appartamento            int64\n",
       "Attico - Mansarda       int64\n",
       "Villa                   int64\n",
       "Palazzo - Edificio      int64\n",
       "Villetta a schiera      int64\n",
       "Rustico - Casale        int64\n",
       "Casa indipendente       int64\n",
       "Loft                    int64\n",
       "dtype: object"
      ]
     },
     "execution_count": 28,
     "metadata": {},
     "output_type": "execute_result"
    }
   ],
   "source": [
    "df3.dtypes"
   ]
  },
  {
   "cell_type": "code",
   "execution_count": 19,
   "id": "c4da6289-27c5-47e5-be6c-1190478baccc",
   "metadata": {},
   "outputs": [
    {
     "name": "stderr",
     "output_type": "stream",
     "text": [
      "C:\\Users\\raffa\\AppData\\Local\\Temp\\ipykernel_27628\\1001120157.py:2: FutureWarning: The default value of regex will change from True to False in a future version. In addition, single character regular expressions will *not* be treated as literal strings when regex=True.\n",
      "  df2['price'] = df2['price'].str.replace('€','').str.replace('.','').str.replace(' ','')\n"
     ]
    }
   ],
   "source": [
    "df2 = df1.copy()\n",
    "df2['price'] = df2['price'].str.replace('€','').str.replace('.','').str.replace(' ','')\n",
    "df2['price'] = df2['price'].astype(float)"
   ]
  },
  {
   "cell_type": "code",
   "execution_count": 20,
   "id": "5ae1cce7-04ba-4f57-8550-ecd517095d74",
   "metadata": {},
   "outputs": [
    {
     "data": {
      "text/plain": [
       "latitude        float64\n",
       "longitude       float64\n",
       "price           float64\n",
       "buildingYear      int64\n",
       "surface           int32\n",
       "rooms            object\n",
       "bathrooms        object\n",
       "floor           float64\n",
       "floors            int64\n",
       "garage            int64\n",
       "luxury            int32\n",
       "typology         object\n",
       "features         object\n",
       "dtype: object"
      ]
     },
     "execution_count": 20,
     "metadata": {},
     "output_type": "execute_result"
    }
   ],
   "source": [
    "df2.dtypes"
   ]
  },
  {
   "cell_type": "code",
   "execution_count": 21,
   "id": "8ae931a1-ff3a-4383-bfb7-67cc646f0b12",
   "metadata": {},
   "outputs": [
    {
     "data": {
      "text/html": [
       "<div>\n",
       "<style scoped>\n",
       "    .dataframe tbody tr th:only-of-type {\n",
       "        vertical-align: middle;\n",
       "    }\n",
       "\n",
       "    .dataframe tbody tr th {\n",
       "        vertical-align: top;\n",
       "    }\n",
       "\n",
       "    .dataframe thead th {\n",
       "        text-align: right;\n",
       "    }\n",
       "</style>\n",
       "<table border=\"1\" class=\"dataframe\">\n",
       "  <thead>\n",
       "    <tr style=\"text-align: right;\">\n",
       "      <th></th>\n",
       "      <th>latitude</th>\n",
       "      <th>longitude</th>\n",
       "      <th>price</th>\n",
       "      <th>buildingYear</th>\n",
       "      <th>surface</th>\n",
       "      <th>rooms</th>\n",
       "      <th>bathrooms</th>\n",
       "      <th>floor</th>\n",
       "      <th>floors</th>\n",
       "      <th>garage</th>\n",
       "      <th>luxury</th>\n",
       "      <th>typology</th>\n",
       "      <th>features</th>\n",
       "    </tr>\n",
       "  </thead>\n",
       "  <tbody>\n",
       "    <tr>\n",
       "      <th>0</th>\n",
       "      <td>41.845798</td>\n",
       "      <td>12.545600</td>\n",
       "      <td>96000.0</td>\n",
       "      <td>1955</td>\n",
       "      <td>114</td>\n",
       "      <td>3</td>\n",
       "      <td>1</td>\n",
       "      <td>-1.0</td>\n",
       "      <td>3</td>\n",
       "      <td>0</td>\n",
       "      <td>0</td>\n",
       "      <td>Appartamento</td>\n",
       "      <td>terrazza, cantina, Infissi esterni in doppio v...</td>\n",
       "    </tr>\n",
       "    <tr>\n",
       "      <th>1</th>\n",
       "      <td>41.845501</td>\n",
       "      <td>12.489500</td>\n",
       "      <td>500000.0</td>\n",
       "      <td>1971</td>\n",
       "      <td>122</td>\n",
       "      <td>4</td>\n",
       "      <td>2</td>\n",
       "      <td>4.0</td>\n",
       "      <td>6</td>\n",
       "      <td>1</td>\n",
       "      <td>0</td>\n",
       "      <td>Appartamento</td>\n",
       "      <td>cancello elettrico, Fibra ottica, videoCitofon...</td>\n",
       "    </tr>\n",
       "    <tr>\n",
       "      <th>2</th>\n",
       "      <td>41.843842</td>\n",
       "      <td>12.489600</td>\n",
       "      <td>430000.0</td>\n",
       "      <td>1971</td>\n",
       "      <td>110</td>\n",
       "      <td>3</td>\n",
       "      <td>2</td>\n",
       "      <td>1.0</td>\n",
       "      <td>4</td>\n",
       "      <td>1</td>\n",
       "      <td>0</td>\n",
       "      <td>Appartamento</td>\n",
       "      <td>Cucina, balcone, terrazza, Solo Cucina Arredat...</td>\n",
       "    </tr>\n",
       "    <tr>\n",
       "      <th>3</th>\n",
       "      <td>41.848701</td>\n",
       "      <td>12.487170</td>\n",
       "      <td>359000.0</td>\n",
       "      <td>1960</td>\n",
       "      <td>118</td>\n",
       "      <td>3</td>\n",
       "      <td>1</td>\n",
       "      <td>5.0</td>\n",
       "      <td>8</td>\n",
       "      <td>0</td>\n",
       "      <td>0</td>\n",
       "      <td>Appartamento</td>\n",
       "      <td>Impianto di allarme, Cucina, balcone, Giardino...</td>\n",
       "    </tr>\n",
       "    <tr>\n",
       "      <th>4</th>\n",
       "      <td>41.841084</td>\n",
       "      <td>12.498786</td>\n",
       "      <td>625000.0</td>\n",
       "      <td>2021</td>\n",
       "      <td>126</td>\n",
       "      <td>4</td>\n",
       "      <td>2</td>\n",
       "      <td>5.5</td>\n",
       "      <td>6</td>\n",
       "      <td>1</td>\n",
       "      <td>0</td>\n",
       "      <td>Attico - Mansarda</td>\n",
       "      <td>Cucina, balcone, terrazza, Infissi esterni in ...</td>\n",
       "    </tr>\n",
       "  </tbody>\n",
       "</table>\n",
       "</div>"
      ],
      "text/plain": [
       "    latitude  longitude     price  buildingYear  surface rooms bathrooms  \\\n",
       "0  41.845798  12.545600   96000.0          1955      114     3         1   \n",
       "1  41.845501  12.489500  500000.0          1971      122     4         2   \n",
       "2  41.843842  12.489600  430000.0          1971      110     3         2   \n",
       "3  41.848701  12.487170  359000.0          1960      118     3         1   \n",
       "4  41.841084  12.498786  625000.0          2021      126     4         2   \n",
       "\n",
       "   floor  floors  garage  luxury           typology  \\\n",
       "0   -1.0       3       0       0       Appartamento   \n",
       "1    4.0       6       1       0       Appartamento   \n",
       "2    1.0       4       1       0       Appartamento   \n",
       "3    5.0       8       0       0       Appartamento   \n",
       "4    5.5       6       1       0  Attico - Mansarda   \n",
       "\n",
       "                                            features  \n",
       "0  terrazza, cantina, Infissi esterni in doppio v...  \n",
       "1  cancello elettrico, Fibra ottica, videoCitofon...  \n",
       "2  Cucina, balcone, terrazza, Solo Cucina Arredat...  \n",
       "3  Impianto di allarme, Cucina, balcone, Giardino...  \n",
       "4  Cucina, balcone, terrazza, Infissi esterni in ...  "
      ]
     },
     "execution_count": 21,
     "metadata": {},
     "output_type": "execute_result"
    }
   ],
   "source": [
    "df2.head()"
   ]
  },
  {
   "cell_type": "code",
   "execution_count": 22,
   "id": "5b50f920-cba0-4039-b044-0937753d2fc9",
   "metadata": {},
   "outputs": [],
   "source": [
    "save_to_sql('./data/processed/rome_house_processing.db', df2, 'housedata')"
   ]
  },
  {
   "cell_type": "code",
   "execution_count": null,
   "id": "bab51fe4-02d6-4784-a87c-78cc2a3b9be4",
   "metadata": {},
   "outputs": [],
   "source": []
  }
 ],
 "metadata": {
  "kernelspec": {
   "display_name": "Python 3 (ipykernel)",
   "language": "python",
   "name": "python3"
  },
  "language_info": {
   "codemirror_mode": {
    "name": "ipython",
    "version": 3
   },
   "file_extension": ".py",
   "mimetype": "text/x-python",
   "name": "python",
   "nbconvert_exporter": "python",
   "pygments_lexer": "ipython3",
   "version": "3.8.16"
  }
 },
 "nbformat": 4,
 "nbformat_minor": 5
}
